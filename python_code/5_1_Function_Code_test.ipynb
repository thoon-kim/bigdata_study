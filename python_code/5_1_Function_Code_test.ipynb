{
 "cells": [
  {
   "cell_type": "markdown",
   "metadata": {},
   "source": [
    "# Fuction_Sample_Code"
   ]
  },
  {
   "cell_type": "code",
   "execution_count": 13,
   "metadata": {
    "scrolled": true
   },
   "outputs": [
    {
     "data": {
      "text/plain": [
       "5"
      ]
     },
     "execution_count": 13,
     "metadata": {},
     "output_type": "execute_result"
    }
   ],
   "source": [
    "# 절대값을 리턴하는 함수\n",
    "\n",
    "def myabs(num):\n",
    "    if num < 0:\n",
    "        return -num\n",
    "    else:\n",
    "        return num\n",
    "    \n",
    "myabs(-5)"
   ]
  },
  {
   "cell_type": "code",
   "execution_count": 18,
   "metadata": {},
   "outputs": [
    {
     "data": {
      "text/plain": [
       "12.56"
      ]
     },
     "execution_count": 18,
     "metadata": {},
     "output_type": "execute_result"
    }
   ],
   "source": [
    "# 반지름을 받아서 원의 면적을 리턴하는 함수\n",
    "\n",
    "def myarea(r):\n",
    "    return (3.14)*r**2\n",
    "#     return 3.14 * pow(r, 2)\n",
    "\n",
    "myarea(2)"
   ]
  },
  {
   "cell_type": "code",
   "execution_count": 23,
   "metadata": {},
   "outputs": [
    {
     "name": "stdout",
     "output_type": "stream",
     "text": [
      "========================\n",
      "Name : 성호\n",
      "E-mail : aaa@aa.com\n",
      "Office Address : 서울\n",
      "========================\n"
     ]
    }
   ],
   "source": [
    "# 이름, 주소, 이메일을 받고 명함을 출력하는 함수\n",
    "\n",
    "def print_business_card(name, mail, address):\n",
    "    print('='*24)\n",
    "    print('Name :', name)\n",
    "    print('E-mail :', mail)\n",
    "    print('Office Address :', address)\n",
    "    print('='*24)\n",
    "\n",
    "print_business_card('성호', 'aaa@aa.com', '서울')"
   ]
  },
  {
   "cell_type": "code",
   "execution_count": 36,
   "metadata": {},
   "outputs": [
    {
     "name": "stdout",
     "output_type": "stream",
     "text": [
      "26\n",
      "1680\n"
     ]
    }
   ],
   "source": [
    "# 일반매개변수('sum', 'mul')와 가벼매개변수를 받고\n",
    "# 'sum' 이면 가변매개변수의 합, 'mul' 이면 가변매개변수의 곱을 리턴\n",
    "\n",
    "def sum_mul(oper, *num):\n",
    "    if oper == 'sum':\n",
    "        result = sum(num)\n",
    "        print(result)\n",
    "    elif oper == 'mul':\n",
    "        result = 1\n",
    "        for i in num:\n",
    "            result *= i\n",
    "        print(result)\n",
    "    else:\n",
    "        print('Operator Error')\n",
    "        \n",
    "sum_mul('sum', 5, 6, 7, 8)\n",
    "sum_mul('mul', 5, 6, 7, 8)"
   ]
  },
  {
   "cell_type": "code",
   "execution_count": 40,
   "metadata": {
    "scrolled": true
   },
   "outputs": [
    {
     "name": "stdout",
     "output_type": "stream",
     "text": [
      "good morning Everyone\n",
      "good morning Mr.Park\n",
      "안녕하세요 Everyone\n",
      "안녕하세요 김선생님\n"
     ]
    }
   ],
   "source": [
    "# 기본값이 있는 함수\n",
    "\n",
    "def report(greet, who='Everyone'):\n",
    "    print(greet, who)\n",
    "\n",
    "report('good morning')\n",
    "report('good morning', 'Mr.Park')\n",
    "\n",
    "report('안녕하세요')\n",
    "report('안녕하세요', '김선생님')"
   ]
  },
  {
   "cell_type": "code",
   "execution_count": 47,
   "metadata": {},
   "outputs": [
    {
     "name": "stdout",
     "output_type": "stream",
     "text": [
      "[2, 4]\n",
      "[-12, 2, 48, 20]\n"
     ]
    }
   ],
   "source": [
    "# 가변매개변수로 값을 받아서 짝수만 출력하는 함수\n",
    "\n",
    "def select_even(*num):\n",
    "    result = []\n",
    "    for i in num:\n",
    "        if i % 2 == 0:\n",
    "            result.append(i)\n",
    "    return result\n",
    "\n",
    "print(select_even(1, 2, 3, 4))\n",
    "print(select_even(-12, 2, 81, 99, 48, 20))"
   ]
  },
  {
   "cell_type": "code",
   "execution_count": 64,
   "metadata": {},
   "outputs": [
    {
     "name": "stdout",
     "output_type": "stream",
     "text": [
      "Max : 30 . Min : -5\n"
     ]
    }
   ],
   "source": [
    "# 가변 매개변수를 받고 최대값과 최소값을 출력하는 함수\n",
    "\n",
    "def minmax(*num):\n",
    "    # easy way\n",
    "    min1 = min(num)\n",
    "    max1 = max(num)\n",
    "#     for i in num:\n",
    "#         if min == None and max == None:\n",
    "#             min = i\n",
    "#             max = i\n",
    "#         elif i < min:\n",
    "#             min = i\n",
    "#         elif i > max:\n",
    "#             max = i\n",
    "    print('Max :', max1, '. Min :', min1)\n",
    "\n",
    "minmax(2,4,3,6,4,3,6,8,10,12,15,0,-1,24,30,-5)"
   ]
  },
  {
   "cell_type": "code",
   "execution_count": 65,
   "metadata": {},
   "outputs": [
    {
     "name": "stdout",
     "output_type": "stream",
     "text": [
      "args_sum = 18\n",
      "kwvalues_sum = 60\n"
     ]
    }
   ],
   "source": [
    "# 가변 매개변수와 kw매개 변수를 받은 후 가변매개변수의 합과 kw매개변수의\n",
    "def varSum(*num, **kw):\n",
    "    num_sum = sum(num)\n",
    "    kw_sum = sum(kw.values())\n",
    "    \n",
    "    print('args_sum =', num_sum)\n",
    "    print('kwvalues_sum =', kw_sum)\n",
    "\n",
    "varSum(2,3,6,4,3, a=10, b=20, c=30)"
   ]
  },
  {
   "cell_type": "code",
   "execution_count": 13,
   "metadata": {},
   "outputs": [
    {
     "data": {
      "text/plain": [
       "[('b', 2), ('a', 3), ('c', 4)]"
      ]
     },
     "execution_count": 13,
     "metadata": {},
     "output_type": "execute_result"
    }
   ],
   "source": [
    "# kw 매개변수를 받은 후 kw값 오름차순으로 정렬해서 리턴\n",
    "\n",
    "def foo3(**kw):\n",
    "    return sorted(kw.items(), key=lambda x:x[1])\n",
    "\n",
    "foo3(a=3, b=2, c=4)"
   ]
  },
  {
   "cell_type": "code",
   "execution_count": null,
   "metadata": {},
   "outputs": [],
   "source": [
    "# "
   ]
  },
  {
   "cell_type": "code",
   "execution_count": 7,
   "metadata": {
    "scrolled": false
   },
   "outputs": [
    {
     "name": "stdout",
     "output_type": "stream",
     "text": [
      "2\n",
      "2\n",
      "4\n",
      "6\n",
      "6\n",
      "10\n",
      "8\n",
      "14\n",
      "10\n",
      "18\n"
     ]
    }
   ],
   "source": [
    "for data in range(1,10,2):\n",
    "    print(data+1)\n",
    "    print(data*2)\n"
   ]
  },
  {
   "cell_type": "code",
   "execution_count": 18,
   "metadata": {},
   "outputs": [
    {
     "name": "stdout",
     "output_type": "stream",
     "text": [
      "input dictionary : {'a': 3, 'b': 2, 'c': 4}\n",
      "output dictionary : [(2, 'b'), (3, 'a'), (4, 'c')]\n"
     ]
    }
   ],
   "source": [
    "# # kw 매개변수를 받은 후 kw값 올림차순으로 정렬해서 리턴\n",
    "\n",
    "def foo3(**kw):\n",
    "    temp = dict()\n",
    "    print('input dictionary :', kw)\n",
    "    for k, v in kw.items():\n",
    "        temp[v] = k\n",
    "    sort_values = sorted(temp.items())\n",
    "    \n",
    "    temp2 = dict()\n",
    "    for i in range(len(sort_values)):\n",
    "        temp2[sort_values[i][1]] = sort_values[i][0]\n",
    "        \n",
    "    print('output dictionary :', sort_values)\n",
    "    \n",
    "#     return sorted(kw.items(), key=lambda x:x[1])\n",
    "\n",
    "foo3(a=3, b=2, c=4)"
   ]
  },
  {
   "cell_type": "code",
   "execution_count": null,
   "metadata": {},
   "outputs": [],
   "source": []
  }
 ],
 "metadata": {
  "kernelspec": {
   "display_name": "Python 3",
   "language": "python",
   "name": "python3"
  },
  "language_info": {
   "codemirror_mode": {
    "name": "ipython",
    "version": 3
   },
   "file_extension": ".py",
   "mimetype": "text/x-python",
   "name": "python",
   "nbconvert_exporter": "python",
   "pygments_lexer": "ipython3",
   "version": "3.7.3"
  }
 },
 "nbformat": 4,
 "nbformat_minor": 2
}
