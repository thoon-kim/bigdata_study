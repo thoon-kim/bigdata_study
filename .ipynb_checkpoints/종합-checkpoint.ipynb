{
 "cells": [
  {
   "cell_type": "markdown",
   "metadata": {},
   "source": [
    "### 정수를 입력받고 천자리에 ',' 표시하세요"
   ]
  },
  {
   "cell_type": "code",
   "execution_count": 28,
   "metadata": {},
   "outputs": [
    {
     "name": "stdout",
     "output_type": "stream",
     "text": [
      "아무숫자를입력1000\n",
      "[0, 1, ',', 0, 0, 0]\n"
     ]
    }
   ],
   "source": [
    "num = input('아무숫자를입력')\n",
    "number =int(num)\n",
    "count =0\n",
    "L = []\n",
    "\n",
    "for i in range(len(num) + len(num)//3):\n",
    "    \n",
    "        L.append(number%10)\n",
    "        number = number//10\n",
    "        count +=1\n",
    "        if count ==3:\n",
    "            L.append( ',')\n",
    "            count =0\n",
    "        \n",
    "    \n",
    "L.reverse()\n",
    "print(L)"
   ]
  },
  {
   "cell_type": "code",
   "execution_count": 13,
   "metadata": {},
   "outputs": [
    {
     "name": "stdout",
     "output_type": "stream",
     "text": [
      "아무 숫자를 입력1000\n",
      "1,000\n"
     ]
    }
   ],
   "source": [
    "## 답안\n",
    "\n",
    "num = input('아무 숫자를 입력')\n",
    "num = num[::-1]\n",
    "ret =''\n",
    "\n",
    "\n",
    "for i,c in enumerate(num):\n",
    "    i =i+1\n",
    "    if i != len(num) and i%3 ==0:\n",
    "        ret += (c+ ',')\n",
    "    else:\n",
    "        ret += c\n",
    "        \n",
    "ret = ret[::-1]\n",
    "\n",
    "print(ret)"
   ]
  },
  {
   "cell_type": "markdown",
   "metadata": {},
   "source": [
    "## my_data에 저장 , 함수 파일을 넣으면 알파벳 몇개가 들어가있는지"
   ]
  },
  {
   "cell_type": "code",
   "execution_count": 18,
   "metadata": {},
   "outputs": [
    {
     "name": "stdout",
     "output_type": "stream",
     "text": [
      "{'A': 5, 'l': 12, 'a': 37, 'b': 4, 'm': 7, ' ': 71, 'S': 5, 'e': 34, 'n': 33, 't': 25, 'p': 9, 's': 33, 'r': 26, '-': 1, 'o': 26, 'i': 32, '\\n': 9, 'I': 3, 'c': 7, 'u': 8, 'U': 2, 'f': 6, 'g': 8, 'N': 2, 'v': 3, 'z': 2, ',': 1, 'y': 2, 'C': 1, 'h': 13, \"'\": 6, 'X': 1, 'L': 1, 'Y': 2, 'W': 2, 'T': 3, 'w': 10, 'd': 10, '?': 1, ':': 2, 'B': 1, 'j': 1, 'O': 1, 'k': 3, 'D': 1, 'P': 1, 'F': 1}\n"
     ]
    }
   ],
   "source": [
    "def getTextFreq(filename):\n",
    "    f = open(filename,'r')\n",
    "    D = {}\n",
    "    a = f.read()\n",
    "    for i in a:\n",
    "        D[i] = a.count(i)\n",
    "        \n",
    "    return D\n",
    "        \n",
    "\n",
    "    \n",
    "    \n",
    "    \n",
    "    \n",
    "ret = getTextFreq('mydata.txt')\n",
    "print(ret)"
   ]
  },
  {
   "cell_type": "code",
   "execution_count": 19,
   "metadata": {},
   "outputs": [
    {
     "name": "stdout",
     "output_type": "stream",
     "text": [
      "{'A': 5, 'l': 12, 'a': 37, 'b': 4, 'm': 7, ' ': 71, 'S': 5, 'e': 34, 'n': 33, 't': 25, 'p': 9, 's': 33, 'r': 26, '-': 1, 'o': 26, 'i': 32, '\\n': 9, 'I': 3, 'c': 7, 'u': 8, 'U': 2, 'f': 6, 'g': 8, 'N': 2, 'v': 3, 'z': 2, ',': 1, 'y': 2, 'C': 1, 'h': 13, \"'\": 6, 'X': 1, 'L': 1, 'Y': 2, 'W': 2, 'T': 3, 'w': 10, 'd': 10, '?': 1, ':': 2, 'B': 1, 'j': 1, 'O': 1, 'k': 3, 'D': 1, 'P': 1, 'F': 1}\n"
     ]
    }
   ],
   "source": [
    "## 모범답안ㄴ\n",
    "\n",
    "def fetTextFreq(filename):\n",
    "    \n",
    "    f= open(filename,'r')\n",
    "    data =f.read()\n",
    "    ret ={}\n",
    "    \n",
    "    for c in data:\n",
    "        if c in ret:\n",
    "            ret[c] +=1\n",
    "        else:\n",
    "            ret[c] =1\n",
    "    return ret\n",
    "    \n",
    "ret = getTextFreq('mydata.txt')\n",
    "print(ret)"
   ]
  },
  {
   "cell_type": "code",
   "execution_count": null,
   "metadata": {},
   "outputs": [],
   "source": []
  },
  {
   "cell_type": "code",
   "execution_count": 15,
   "metadata": {},
   "outputs": [
    {
     "name": "stdout",
     "output_type": "stream",
     "text": [
      "찾을 문자를 입력: a\n",
      "변경할 문자 입력 : 아\n",
      "Al아b아m아 Sen아te p아sses ne아r-tot아l 아bortion b아n\n",
      "Ir아n 아ccuses US of esc아l아ting tensions\n",
      "No civiliz아tion is superior, s아ys Chin아's Xi\n",
      "ANALYSIS Who isn't Trump t아rgeting with 아 tr아de w아r?\n",
      "Ardern on gun l아ws: I don't underst아nd US\n",
      "Boeing h아d zero new orders for jets in April\n",
      "Why residents 아re le아ving Trump Tower\n",
      "Officer shoots 아nd kills wom아n who s아id she w아s pregn아nt\n",
      "D아nish politici아n: 'Yes it's me on Pornhub'\n",
      "F아rmer 아mput아tes his leg with 아 pocket knife to s아ve his own life\n",
      "[a] 를 [아]로 변경하였습니다. \n"
     ]
    }
   ],
   "source": [
    "## my data 에서 t1 문자하나를 t2 문자로 바꾼다\n",
    "## 그후 mydata2 로 저장\n",
    "\n",
    "t1 = input('찾을 문자를 입력: ')\n",
    "t2 = input('변경할 문자 입력 : ')\n",
    "\n",
    "f = open('mydata.txt','r')\n",
    "\n",
    "a = f.read()\n",
    "\n",
    "b=a.replace(t1,t2)\n",
    "\n",
    "g = open('mydata2.txt','w')\n",
    "g.write(b)\n",
    "\n",
    "print(b)\n",
    "print('[%s] 를 [%s]로 변경하였습니다. '%(t1,t2))\n",
    "f.close()\n",
    "g.close()\n",
    "\n"
   ]
  },
  {
   "cell_type": "markdown",
   "metadata": {},
   "source": [
    "### 파일에서 단어의 갯수를 출력하는 함수를 만드세요\n"
   ]
  },
  {
   "cell_type": "code",
   "execution_count": 40,
   "metadata": {},
   "outputs": [
    {
     "name": "stdout",
     "output_type": "stream",
     "text": [
      "[ me ]의 개수 : 1 \n"
     ]
    }
   ],
   "source": [
    "def countWord(filename, word):\n",
    "    f = open(filename,'r')\n",
    "    a = f.read()\n",
    "    return a.count(word)\n",
    "\n",
    "\n",
    "    \n",
    "    \n",
    "word = ' me '\n",
    "    \n",
    "ret = countWord('mydata.txt',word)\n",
    "print('[%s]의 개수 : %d ' % (word,ret))"
   ]
  },
  {
   "cell_type": "code",
   "execution_count": 11,
   "metadata": {},
   "outputs": [
    {
     "name": "stdout",
     "output_type": "stream",
     "text": [
      "[ name ]의 개수 : 0 \n"
     ]
    }
   ],
   "source": [
    "## 강사님 답안\n",
    "\n",
    "def countWord(filename, word):\n",
    "    f= open(filename,'r')\n",
    "    data = f.read()\n",
    "    p  = data.find(word)\n",
    "    \n",
    "    count =0\n",
    "    while p != -1:\n",
    "        count +=1\n",
    "        p =data.find(word,p+1)\n",
    "    return count\n",
    "\n",
    "word = ' name '\n",
    "ret = countWord('mydata.txt',word)\n",
    "print('[%s]의 개수 : %d ' % (word,ret))\n"
   ]
  },
  {
   "cell_type": "code",
   "execution_count": null,
   "metadata": {},
   "outputs": [],
   "source": []
  },
  {
   "cell_type": "code",
   "execution_count": null,
   "metadata": {},
   "outputs": [],
   "source": []
  },
  {
   "cell_type": "code",
   "execution_count": null,
   "metadata": {},
   "outputs": [],
   "source": []
  },
  {
   "cell_type": "code",
   "execution_count": null,
   "metadata": {},
   "outputs": [],
   "source": []
  },
  {
   "cell_type": "code",
   "execution_count": null,
   "metadata": {},
   "outputs": [],
   "source": []
  },
  {
   "cell_type": "code",
   "execution_count": null,
   "metadata": {},
   "outputs": [],
   "source": []
  },
  {
   "cell_type": "code",
   "execution_count": null,
   "metadata": {},
   "outputs": [],
   "source": []
  }
 ],
 "metadata": {
  "kernelspec": {
   "display_name": "Python 3",
   "language": "python",
   "name": "python3"
  },
  "language_info": {
   "codemirror_mode": {
    "name": "ipython",
    "version": 3
   },
   "file_extension": ".py",
   "mimetype": "text/x-python",
   "name": "python",
   "nbconvert_exporter": "python",
   "pygments_lexer": "ipython3",
   "version": "3.7.3"
  }
 },
 "nbformat": 4,
 "nbformat_minor": 2
}
