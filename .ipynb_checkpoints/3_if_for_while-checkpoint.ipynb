{
 "cells": [
  {
   "cell_type": "code",
   "execution_count": 7,
   "metadata": {},
   "outputs": [
    {
     "name": "stdout",
     "output_type": "stream",
     "text": [
      "Enter Password : 1234\n",
      "환영합니다.\n"
     ]
    }
   ],
   "source": [
    "# password = 1234 / 패스워드를 입력받은 후 패스워드와 맞으면\n",
    "# 환영합니다, 틀리면 죄송합니다 패스워드가 틀립니다.를 출력\n",
    "\n",
    "password = '1234'\n",
    "input_passwd = input('Enter Password : ')\n",
    "\n",
    "if input_passwd == password:\n",
    "    print('환영합니다.')\n",
    "else:\n",
    "    print('죄송합니다. 패스워드가 틀립니다.')"
   ]
  },
  {
   "cell_type": "code",
   "execution_count": 12,
   "metadata": {
    "scrolled": true
   },
   "outputs": [
    {
     "name": "stdout",
     "output_type": "stream",
     "text": [
      "Enter X : 1\n",
      "Enter Y : 1\n",
      "서로 같다\n"
     ]
    }
   ],
   "source": [
    "# x, y 두 수를 받은 다음, 크고, 작고, 같다를 출력\n",
    "\n",
    "x = int(input('Enter X : '))\n",
    "y = int(input('Enter Y : '))\n",
    "\n",
    "if x > y:\n",
    "    print('X가 Y보다 크다')\n",
    "elif x == y:\n",
    "    print('서로 같다')\n",
    "else:\n",
    "    print('X가 Y보다 작다')\n"
   ]
  },
  {
   "cell_type": "code",
   "execution_count": 19,
   "metadata": {},
   "outputs": [
    {
     "name": "stdout",
     "output_type": "stream",
     "text": [
      "점수를 입력하세요 : 100\n",
      "A학점입니다.\n"
     ]
    }
   ],
   "source": [
    "# 점수를 입력받아서 학점을 출력\n",
    "\n",
    "score = int(input('점수를 입력하세요 : '))\n",
    "\n",
    "if score >= 90:\n",
    "    grade = 'A'\n",
    "elif score >= 80:\n",
    "    grade = 'B'\n",
    "elif score >= 70:\n",
    "    grade = 'C'\n",
    "elif score >= 60:\n",
    "    grade = 'D'\n",
    "else:\n",
    "    grade = 'F'\n",
    "    \n",
    "print(grade+'학점입니다.')"
   ]
  },
  {
   "cell_type": "code",
   "execution_count": 24,
   "metadata": {},
   "outputs": [
    {
     "name": "stdout",
     "output_type": "stream",
     "text": [
      "Enter name : John\n",
      "{'Mary': 12, 'Jane': 25, 'Tom': 20, 'John': 0}\n"
     ]
    }
   ],
   "source": [
    "names = {'Mary' : 12, 'Jane' : 25, 'Tom' : 20}\n",
    "\n",
    "# 이름을 받고, namses 에 없으면 0000값으로 추가하고\n",
    "# 있으면, 값을 출력\n",
    "\n",
    "name = input('Enter name : ')\n",
    "\n",
    "if name in names:\n",
    "    print(names[name])\n",
    "else:\n",
    "    names[name] = 0000\n",
    "    print(names)"
   ]
  },
  {
   "cell_type": "code",
   "execution_count": 45,
   "metadata": {},
   "outputs": [
    {
     "name": "stdout",
     "output_type": "stream",
     "text": [
      "mine => 가위, 바위 보 중에서 선택 : 가위\n",
      "yours => 가위, 바위, 보 중에서 선택 : 가위\n",
      "무승부\n"
     ]
    }
   ],
   "source": [
    "# 가위, 바위, 보 게임\n",
    "# mine, yours\n",
    "\n",
    "mine = input('mine => 가위, 바위 보 중에서 선택 : ')\n",
    "yours = input('yours => 가위, 바위, 보 중에서 선택 : ')\n",
    "\n",
    "#  나  가위   바위   보\n",
    "# 가위  무     승    패\n",
    "# 바위  패     무    승\n",
    "#  보   승     패    무\n",
    "\n",
    "# list = [[2,3,1],[1,2,3],[3,1,2]]\n",
    "\n",
    "if (mine == '가위' and yours == '보') or (mine == '바위' and yours =='가위') or (mine == '보' and yours == '바위'):\n",
    "    print('이겼습니다!')\n",
    "elif mine == yours:\n",
    "    print('무승부')\n",
    "else:\n",
    "    print('졌습니다ㅠ')\n",
    "\n",
    "# result = list[mine-1][yours-1]\n",
    "\n",
    "# if result == 3:\n",
    "#     print('졌습니다ㅜ')\n",
    "# elif result == 2:\n",
    "#     print('무승부')\n",
    "# else:\n",
    "#     print('이겼습니다')\n",
    "        "
   ]
  },
  {
   "cell_type": "code",
   "execution_count": null,
   "metadata": {},
   "outputs": [],
   "source": [
    "m = [x for x in range(1,5)]\n"
   ]
  },
  {
   "cell_type": "code",
   "execution_count": null,
   "metadata": {},
   "outputs": [],
   "source": [
    "print(m)"
   ]
  },
  {
   "cell_type": "code",
   "execution_count": null,
   "metadata": {},
   "outputs": [],
   "source": [
    "m2 = [(i,j) for i in range(1,4) for j in range(6,8)]\n",
    "print(m2)"
   ]
  },
  {
   "cell_type": "code",
   "execution_count": 20,
   "metadata": {},
   "outputs": [
    {
     "name": "stdout",
     "output_type": "stream",
     "text": [
      "55\n"
     ]
    }
   ],
   "source": [
    "# 1 ~ 10 합계\n",
    "total = 0\n",
    "i = 0\n",
    "while i <= 10:\n",
    "    total += i\n",
    "    i += 1\n",
    "    \n",
    "print(total)"
   ]
  },
  {
   "cell_type": "code",
   "execution_count": 2,
   "metadata": {},
   "outputs": [
    {
     "name": "stdout",
     "output_type": "stream",
     "text": [
      "55\n"
     ]
    }
   ],
   "source": [
    "# 1 ~ 10 합계\n",
    "total = 0\n",
    "\n",
    "for i in range(10):\n",
    "    total += i+1\n",
    "print(total)"
   ]
  },
  {
   "cell_type": "code",
   "execution_count": 1,
   "metadata": {},
   "outputs": [
    {
     "name": "stdout",
     "output_type": "stream",
     "text": [
      "8\n",
      "['o', 'u', 'a', 'i', 'o', 'a', 'i', 'i']\n"
     ]
    }
   ],
   "source": [
    "# 'computational thinking' 에서 모음만 출력\n",
    "\n",
    "count = 0\n",
    "letters = []\n",
    "str1 = 'computational thinking'\n",
    "\n",
    "for i in str1:\n",
    "    if i in 'aeiou': # in 을 사용\n",
    "        count += 1\n",
    "        letters.append(i)\n",
    "        \n",
    "print(count)\n",
    "print(letters)"
   ]
  },
  {
   "cell_type": "code",
   "execution_count": 1,
   "metadata": {
    "scrolled": true
   },
   "outputs": [
    {
     "name": "stdout",
     "output_type": "stream",
     "text": [
      "[(0, 5), (0, 6), (0, 7), (0, 8), (0, 9), (0, 10), (1, 5), (1, 6), (1, 7), (1, 8), (1, 9), (1, 10), (2, 5), (2, 6), (2, 7), (2, 8), (2, 9), (2, 10), (3, 5), (3, 6), (3, 7), (3, 8), (3, 9), (3, 10), (4, 5), (4, 6), (4, 7), (4, 8), (4, 9), (4, 10)]\n"
     ]
    }
   ],
   "source": [
    "# list comprehension으로 숫자 조합 출력\n",
    "x = [0,1,2,3,4]\n",
    "y = [5,6,7,8,9,10]\n",
    "\n",
    "lst = [(i,j) for i in x for j in y] # tuple 의 list\n",
    "\n",
    "# lst = [(i,j) for i in x \n",
    "#                for j in y] # tuple 의 list\n",
    "# for문 안의 for문이 된다.\n",
    "\n",
    "\n",
    "print(lst)"
   ]
  },
  {
   "cell_type": "code",
   "execution_count": 3,
   "metadata": {},
   "outputs": [
    {
     "name": "stdout",
     "output_type": "stream",
     "text": [
      "[0, 2, 4, 6, 8]\n"
     ]
    }
   ],
   "source": [
    "# list comprehension 으로 짝수만 출력(10까지의 숫자에서)\n",
    "lst1 = [x for x in range(0,10,2)]\n",
    "print(lst1)"
   ]
  },
  {
   "cell_type": "code",
   "execution_count": 9,
   "metadata": {},
   "outputs": [
    {
     "name": "stdout",
     "output_type": "stream",
     "text": [
      "[('BE', 'be', 2), ('AS', 'as', 2), ('PROUD', 'proud', 5), ('OF', 'of', 2), ('SOGANG', 'sogang', 6), ('AS', 'as', 2), ('SOGANG', 'sogang', 6), ('IS', 'is', 2), ('PROUD', 'proud', 5), ('OF', 'of', 2), ('YOU', 'you', 3)]\n"
     ]
    }
   ],
   "source": [
    "# phrase = 'Be as proud of Sogang as Sogang is proud of you'\n",
    "# list comprehension 으로 다음과 같이 출력\n",
    "\n",
    "phrase = 'Be as proud of Sogang as Sogang is proud of you'\n",
    "list = phrase.split()\n",
    "\n",
    "lst2 = [(i.upper(), i.lower(), len(i)) for i in list]\n",
    "print(lst2)"
   ]
  },
  {
   "cell_type": "code",
   "execution_count": null,
   "metadata": {},
   "outputs": [],
   "source": [
    "# 1에서 10까지의 숫자에서 for문과 continue와 break를 활용\n",
    "\n",
    "lst3 = []\n",
    "\n",
    "# for i in range(1,11):\n",
    "#     if i >= 5 and i <= 7:\n",
    "#         lst3.append(i)\n",
    "\n",
    "for i in range(1, 11):\n",
    "    if i < 5:\n",
    "        continue\n",
    "    elif i > 7:\n",
    "        break\n",
    "    else:\n",
    "        lst3.append(i)\n",
    "        \n",
    "print(lst3)"
   ]
  },
  {
   "cell_type": "code",
   "execution_count": 4,
   "metadata": {},
   "outputs": [
    {
     "name": "stdout",
     "output_type": "stream",
     "text": [
      "점수를 입력하세요 : 10\n",
      "점수를 입력하세요 : 10\n",
      "점수를 입력하세요 : 10\n",
      "점수를 입력하세요 : 10\n",
      "점수를 입력하세요 : 01\n",
      "Class average is 8.2\n"
     ]
    }
   ],
   "source": [
    "# 5과목의 점수의 평균을 계산 input 이 다섯개\n",
    "\n",
    "total = 0\n",
    "count = 1\n",
    "\n",
    "for i in range(5):\n",
    "    score = int(input('점수를 입력하세요 : '))\n",
    "    total += score\n",
    "    count += 1\n",
    "    \n",
    "# 평균 출력\n",
    "avrg = total / (count-1)\n",
    "print(\"Class average is\", avrg)"
   ]
  },
  {
   "cell_type": "code",
   "execution_count": 10,
   "metadata": {
    "scrolled": true
   },
   "outputs": [
    {
     "name": "stdout",
     "output_type": "stream",
     "text": [
      "Enter number : 5\n",
      "5! is 120\n",
      "5! is 120\n"
     ]
    }
   ],
   "source": [
    "# 팩토리얼 while 문으로\n",
    "num = int(input('Enter number : '))\n",
    "result = 1\n",
    "\n",
    "ind = num\n",
    "while ind > 0:\n",
    "    result *= ind\n",
    "    ind -= 1\n",
    "\n",
    "print(str(num) + \"! is \" + str(result))\n",
    "\n",
    "# 팩토리얼 for 문으로\n",
    "result = 1\n",
    "i = 1\n",
    "for i in range(num):\n",
    "    result *= (i+1)\n",
    "    \n",
    "print(str(num) + \"! is \" + str(result))"
   ]
  },
  {
   "cell_type": "code",
   "execution_count": 25,
   "metadata": {},
   "outputs": [
    {
     "name": "stdout",
     "output_type": "stream",
     "text": [
      "1\n",
      "3\n",
      "5\n"
     ]
    }
   ],
   "source": [
    "# continue를 사용해서 홀수만 출력\n",
    "scope = [1,2,3,4,5]\n",
    "\n",
    "for i in scope:\n",
    "    if i % 2 == 0:\n",
    "        continue\n",
    "    print(i)\n",
    "    "
   ]
  },
  {
   "cell_type": "code",
   "execution_count": 30,
   "metadata": {},
   "outputs": [
    {
     "name": "stdout",
     "output_type": "stream",
     "text": [
      "Enter Number : 10\n",
      "n = 10 : oddSum = 25, evenSum = 30\n"
     ]
    }
   ],
   "source": [
    "# 입력받은 수까지 홀수합, 짝수합\n",
    "n = int(input('Enter Number : '))\n",
    "oddsum = 0 # 홀수\n",
    "evensum = 0 # 짝수\n",
    "\n",
    "for i in range(n+1):\n",
    "    if i % 2 == 0:\n",
    "        evensum += i\n",
    "    else:\n",
    "        oddsum += i\n",
    "\n",
    "print(\"n = {} : oddSum = {}, evenSum = {}\".format(n, oddsum, evensum))"
   ]
  },
  {
   "cell_type": "code",
   "execution_count": 36,
   "metadata": {},
   "outputs": [
    {
     "name": "stdout",
     "output_type": "stream",
     "text": [
      "Min = 60, Max = 100\n"
     ]
    }
   ],
   "source": [
    "# 리스트에서 for 문을 사용하여 최댓값, 최솟값 찾기\n",
    "\n",
    "L = [70, 100, 80, 60, 90]\n",
    "nMin = nMax = L[0]\n",
    "\n",
    "for i in L:\n",
    "    if i >= nMax:\n",
    "        nMax = i\n",
    "    elif i <= nMin:\n",
    "        nMin = i\n",
    "    else:\n",
    "        continue\n",
    "        \n",
    "print(\"Min = {}, Max = {}\".format(nMin, nMax))"
   ]
  },
  {
   "cell_type": "code",
   "execution_count": 66,
   "metadata": {},
   "outputs": [
    {
     "name": "stdout",
     "output_type": "stream",
     "text": [
      "1x1= 1  1x2= 2  1x3= 3  1x4= 4  1x5= 5  1x6= 6  1x7= 7  1x8= 8  1x9= 9  \n",
      "\n",
      "2x1= 2  2x2= 4  2x3= 6  2x4= 8  2x5=10  2x6=12  2x7=14  2x8=16  2x9=18  \n",
      "\n",
      "3x1= 3  3x2= 6  3x3= 9  3x4=12  3x5=15  3x6=18  3x7=21  3x8=24  3x9=27  \n",
      "\n",
      "4x1= 4  4x2= 8  4x3=12  4x4=16  4x5=20  4x6=24  4x7=28  4x8=32  4x9=36  \n",
      "\n",
      "5x1= 5  5x2=10  5x3=15  5x4=20  5x5=25  5x6=30  5x7=35  5x8=40  5x9=45  \n",
      "\n",
      "6x1= 6  6x2=12  6x3=18  6x4=24  6x5=30  6x6=36  6x7=42  6x8=48  6x9=54  \n",
      "\n",
      "7x1= 7  7x2=14  7x3=21  7x4=28  7x5=35  7x6=42  7x7=49  7x8=56  7x9=63  \n",
      "\n",
      "8x1= 8  8x2=16  8x3=24  8x4=32  8x5=40  8x6=48  8x7=56  8x8=64  8x9=72  \n",
      "\n",
      "9x1= 9  9x2=18  9x3=27  9x4=36  9x5=45  9x6=54  9x7=63  9x8=72  9x9=81  \n",
      "\n"
     ]
    }
   ],
   "source": [
    "# 구구단 출력\n",
    "\n",
    "for i in range(1, 10):\n",
    "    for j in range(1, 10):\n",
    "        print(\"{}x{}={:>2} \".format(i, j, i*j), end=' ')\n",
    "    print(\"\\n\")"
   ]
  },
  {
   "cell_type": "code",
   "execution_count": 1,
   "metadata": {},
   "outputs": [
    {
     "name": "stdout",
     "output_type": "stream",
     "text": [
      "양의 정수 --> 2\n",
      "소수\n"
     ]
    }
   ],
   "source": [
    "# 입력받은 수가 소수인지 판별하기\n",
    "n = int(input('양의 정수 --> '))\n",
    "i = 2\n",
    "prime = True\n",
    "if n == 1:\n",
    "    prime = False\n",
    "    \n",
    "for i in range(2,n):\n",
    "    if n%i == 0:\n",
    "        prime = False\n",
    "        break\n",
    "        \n",
    "if prime == True:\n",
    "    print('소수')\n",
    "else:\n",
    "    print('소수가 아닙니다.')"
   ]
  },
  {
   "cell_type": "code",
   "execution_count": 9,
   "metadata": {},
   "outputs": [
    {
     "name": "stdout",
     "output_type": "stream",
     "text": [
      "*\n",
      "**\n",
      "***\n",
      "****\n",
      "*****\n",
      "******\n",
      "*******\n",
      "********\n",
      "*********\n",
      "**********\n"
     ]
    }
   ],
   "source": [
    "for i in range(10):\n",
    "    print(\"*\"*(i+1))"
   ]
  },
  {
   "cell_type": "code",
   "execution_count": 8,
   "metadata": {},
   "outputs": [
    {
     "name": "stdout",
     "output_type": "stream",
     "text": [
      "**********\n",
      "*********\n",
      "********\n",
      "*******\n",
      "******\n",
      "*****\n",
      "****\n",
      "***\n",
      "**\n",
      "*\n"
     ]
    }
   ],
   "source": [
    "for i in range(10):\n",
    "    print(\"*\"*(10-i))"
   ]
  },
  {
   "cell_type": "code",
   "execution_count": 14,
   "metadata": {
    "scrolled": true
   },
   "outputs": [
    {
     "name": "stdout",
     "output_type": "stream",
     "text": [
      "**********\n",
      " *********\n",
      "  ********\n",
      "   *******\n",
      "    ******\n",
      "     *****\n",
      "      ****\n",
      "       ***\n",
      "        **\n",
      "         *\n"
     ]
    }
   ],
   "source": [
    "for i in range(10):\n",
    "    print(\"{:>10}\".format(\"*\"*(10-i)))"
   ]
  },
  {
   "cell_type": "code",
   "execution_count": 24,
   "metadata": {
    "scrolled": false
   },
   "outputs": [
    {
     "name": "stdout",
     "output_type": "stream",
     "text": [
      "    *     \n",
      "   ***    \n",
      "  *****   \n",
      " *******  \n",
      "********* \n"
     ]
    }
   ],
   "source": [
    "for i in range(1,10,2):\n",
    "    print(\"{:^10}\".format(\"*\"*i))"
   ]
  },
  {
   "cell_type": "code",
   "execution_count": null,
   "metadata": {},
   "outputs": [],
   "source": []
  },
  {
   "cell_type": "code",
   "execution_count": null,
   "metadata": {},
   "outputs": [],
   "source": []
  }
 ],
 "metadata": {
  "kernelspec": {
   "display_name": "Python 3",
   "language": "python",
   "name": "python3"
  },
  "language_info": {
   "codemirror_mode": {
    "name": "ipython",
    "version": 3
   },
   "file_extension": ".py",
   "mimetype": "text/x-python",
   "name": "python",
   "nbconvert_exporter": "python",
   "pygments_lexer": "ipython3",
   "version": "3.7.3"
  }
 },
 "nbformat": 4,
 "nbformat_minor": 2
}
