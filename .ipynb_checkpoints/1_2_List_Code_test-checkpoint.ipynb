{
 "cells": [
  {
   "cell_type": "markdown",
   "metadata": {},
   "source": [
    "## List Sample Code"
   ]
  },
  {
   "cell_type": "code",
   "execution_count": 1,
   "metadata": {},
   "outputs": [
    {
     "name": "stdout",
     "output_type": "stream",
     "text": [
      "[0, 1, 2, 3, 4, 5, 6, 7, 8, 9]\n",
      "[10, 11, 12, 13, 14, 15, 16, 17, 18, 19]\n"
     ]
    }
   ],
   "source": [
    "range1 = range(10)\n",
    "range2 = range(10, 20)\n",
    "print(list(range1))   # [0 ,1, 2, 3, 4, 5, 6, 7, 8, 9]가 출력됨\n",
    "print(list(range2))   # [10, 11, 12, 13, 14, 15, 16, 17, 18, 19]가 출력됨"
   ]
  },
  {
   "cell_type": "code",
   "execution_count": 5,
   "metadata": {
    "scrolled": true
   },
   "outputs": [
    {
     "name": "stdout",
     "output_type": "stream",
     "text": [
      "2\n",
      "b\n",
      "5\n"
     ]
    }
   ],
   "source": [
    "listdata = [1, 2, 'a', 'b', 'c', [4, 5, 6]]\n",
    "print(listdata[1])\n",
    "print(listdata[3])\n",
    "print(listdata[5][1])"
   ]
  },
  {
   "cell_type": "code",
   "execution_count": 15,
   "metadata": {},
   "outputs": [
    {
     "name": "stdout",
     "output_type": "stream",
     "text": [
      "지구은(는) 태양계에서 3번째에 위치하고 있습니다.\n",
      "지구은(는) 태양계에서 9번째에 위치하고 있습니다.\n"
     ]
    }
   ],
   "source": [
    "solarsys = ['태양', '수성', '금성', '지구', '화성', '목성', '토성', '천왕성', '해왕성', '지구']\n",
    "planet = '지구'\n",
    "base = '{}은(는) 태양계에서 {}번째에 위치하고 있습니다.'\n",
    "j = 0\n",
    "for i in range(solarsys.count(planet)):\n",
    "    j = solarsys.index(planet,j)\n",
    "    print(base.format(planet, j))\n",
    "    j += 1"
   ]
  },
  {
   "cell_type": "code",
   "execution_count": 33,
   "metadata": {},
   "outputs": [],
   "source": [
    "solarsys = ['태양', '수성', '금성', '지구', '화성', '목성', '지구']\n",
    "solarsys1 = ['토성', '천왕성', '해왕성']\n",
    "planet = '지구'"
   ]
  },
  {
   "cell_type": "markdown",
   "metadata": {},
   "source": [
    "1. solarsys 에서 ['수성', '금성', '지구'] 를 출력\n",
    "2. solarsys에서 '지구'의 위치값 출력\n",
    "3. solarsys에서 '화성'을 '해왕성'으로 수정\n",
    "4. solarsys에서 '수성' 자리에 '명왕성'을 삽입\n",
    "5. solarsys에 '토성'을 맨 끝에 첨가\n",
    "6. solarsys에 맨 끝 요소를 제거하고 리턴\n",
    "7. solarsys에서 '금성'을 제거\n",
    "8. solarsys에서 1번째에서 3번째까지 살제\n",
    "9. solarsys에서 인덱스값 2번 요소를 삭제\n",
    "10.solarsys와 solarsys1을 합하시요.\n",
    "11. solarsys를 오름차순으로 정력하세요.\n",
    "12. solarsys를 내림차순으로 정렬하세요.\n",
    "13. solarsys의 원소의 순서를 바꾸세요.\n",
    "14. solarsys에 '만리장성'이 있는지 확인하세요.\n",
    "15. solarsys를 3번 반복하세요.\n",
    "16. solarsys의 길이를 리턴하세요.\n",
    "17. solarsys에서 '지구'의 갯수를 출력하세요.\n",
    "18. solarsys의 모든 원소를 지워세요.\n",
    "19. solarsys 리스트를 삭제하세요."
   ]
  },
  {
   "cell_type": "code",
   "execution_count": 34,
   "metadata": {
    "scrolled": true
   },
   "outputs": [
    {
     "name": "stdout",
     "output_type": "stream",
     "text": [
      "['수성', '금성', '지구']\n"
     ]
    }
   ],
   "source": [
    "print(solarsys[1:4])"
   ]
  },
  {
   "cell_type": "code",
   "execution_count": 35,
   "metadata": {
    "scrolled": true
   },
   "outputs": [
    {
     "name": "stdout",
     "output_type": "stream",
     "text": [
      "3\n"
     ]
    }
   ],
   "source": [
    "print(solarsys.index('지구'))# 지구의 index 출력하시오"
   ]
  },
  {
   "cell_type": "code",
   "execution_count": 36,
   "metadata": {},
   "outputs": [
    {
     "name": "stdout",
     "output_type": "stream",
     "text": [
      "['태양', '수성', '금성', '지구', '해왕성', '목성', '지구']\n"
     ]
    }
   ],
   "source": [
    "solarsys[solarsys.index('화성')] = '해왕성'# 해왕성으로 교체\n",
    "print(solarsys)"
   ]
  },
  {
   "cell_type": "code",
   "execution_count": 37,
   "metadata": {},
   "outputs": [
    {
     "name": "stdout",
     "output_type": "stream",
     "text": [
      "['태양', '명왕성', '수성', '금성', '지구', '해왕성', '목성', '지구']\n"
     ]
    }
   ],
   "source": [
    "solarsys.insert(1,'명왕성') # 명왕성 삽입\n",
    "print(solarsys)"
   ]
  },
  {
   "cell_type": "code",
   "execution_count": 38,
   "metadata": {},
   "outputs": [
    {
     "name": "stdout",
     "output_type": "stream",
     "text": [
      "['태양', '명왕성', '수성', '금성', '지구', '해왕성', '목성', '지구', '토성']\n"
     ]
    }
   ],
   "source": [
    "solarsys.append('토성') # 토성 삽입\n",
    "print(solarsys)"
   ]
  },
  {
   "cell_type": "code",
   "execution_count": 39,
   "metadata": {},
   "outputs": [
    {
     "name": "stdout",
     "output_type": "stream",
     "text": [
      "['태양', '명왕성', '수성', '금성', '지구', '해왕성', '목성', '지구']\n"
     ]
    }
   ],
   "source": [
    "solarsys.pop()# 맨 뒤 요소 삭제\n",
    "print(solarsys)"
   ]
  },
  {
   "cell_type": "code",
   "execution_count": 40,
   "metadata": {},
   "outputs": [
    {
     "name": "stdout",
     "output_type": "stream",
     "text": [
      "['태양', '명왕성', '수성', '지구', '해왕성', '목성', '지구']\n"
     ]
    }
   ],
   "source": [
    "solarsys.remove('금성') # 금성 삭제\n",
    "print(solarsys)"
   ]
  },
  {
   "cell_type": "code",
   "execution_count": 41,
   "metadata": {},
   "outputs": [
    {
     "name": "stdout",
     "output_type": "stream",
     "text": [
      "['태양', '해왕성', '목성', '지구']\n"
     ]
    }
   ],
   "source": [
    "del solarsys[1:4]\n",
    "print(solarsys)"
   ]
  },
  {
   "cell_type": "code",
   "execution_count": 42,
   "metadata": {},
   "outputs": [
    {
     "name": "stdout",
     "output_type": "stream",
     "text": [
      "['태양', '해왕성', '지구']\n"
     ]
    }
   ],
   "source": [
    "del solarsys[2]\n",
    "print(solarsys)"
   ]
  },
  {
   "cell_type": "code",
   "execution_count": 43,
   "metadata": {},
   "outputs": [
    {
     "name": "stdout",
     "output_type": "stream",
     "text": [
      "['태양', '해왕성', '지구', '토성', '천왕성', '해왕성']\n"
     ]
    }
   ],
   "source": [
    "solarsys.extend(solarsys1) # List를 합하시오\n",
    "print(solarsys)"
   ]
  },
  {
   "cell_type": "code",
   "execution_count": 44,
   "metadata": {},
   "outputs": [
    {
     "name": "stdout",
     "output_type": "stream",
     "text": [
      "['지구', '천왕성', '태양', '토성', '해왕성', '해왕성']\n"
     ]
    }
   ],
   "source": [
    "solarsys.sort() # 정렬\n",
    "print(solarsys)"
   ]
  },
  {
   "cell_type": "code",
   "execution_count": 45,
   "metadata": {},
   "outputs": [
    {
     "name": "stdout",
     "output_type": "stream",
     "text": [
      "['해왕성', '해왕성', '토성', '태양', '천왕성', '지구']\n"
     ]
    }
   ],
   "source": [
    "solarsys.sort(reverse = True) # 역순 정렬\n",
    "print(solarsys)"
   ]
  },
  {
   "cell_type": "code",
   "execution_count": 46,
   "metadata": {},
   "outputs": [
    {
     "data": {
      "text/plain": [
       "['지구', '천왕성', '태양', '토성', '해왕성', '해왕성']"
      ]
     },
     "execution_count": 46,
     "metadata": {},
     "output_type": "execute_result"
    }
   ],
   "source": [
    "sorted(solarsys)"
   ]
  },
  {
   "cell_type": "code",
   "execution_count": 47,
   "metadata": {},
   "outputs": [
    {
     "data": {
      "text/plain": [
       "False"
      ]
     },
     "execution_count": 47,
     "metadata": {},
     "output_type": "execute_result"
    }
   ],
   "source": [
    "'만리장성' in solarsys # '만리장성' 이 포합되어 있는지"
   ]
  },
  {
   "cell_type": "code",
   "execution_count": 48,
   "metadata": {},
   "outputs": [
    {
     "data": {
      "text/plain": [
       "6"
      ]
     },
     "execution_count": 48,
     "metadata": {},
     "output_type": "execute_result"
    }
   ],
   "source": [
    "len(solarsys)# 길이 리턴"
   ]
  },
  {
   "cell_type": "code",
   "execution_count": 50,
   "metadata": {},
   "outputs": [
    {
     "data": {
      "text/plain": [
       "1"
      ]
     },
     "execution_count": 50,
     "metadata": {},
     "output_type": "execute_result"
    }
   ],
   "source": [
    "solarsys.count(planet) # 지구의 갯수"
   ]
  },
  {
   "cell_type": "code",
   "execution_count": 51,
   "metadata": {},
   "outputs": [
    {
     "data": {
      "text/plain": [
       "['지구', '천왕성', '태양', '토성', '해왕성', '해왕성']"
      ]
     },
     "execution_count": 51,
     "metadata": {},
     "output_type": "execute_result"
    }
   ],
   "source": [
    "list(reversed(solarsys))"
   ]
  },
  {
   "cell_type": "code",
   "execution_count": 53,
   "metadata": {},
   "outputs": [
    {
     "name": "stdout",
     "output_type": "stream",
     "text": [
      "[]\n"
     ]
    }
   ],
   "source": [
    "solarsys.clear()# 원소삭제\n",
    "print(solarsys)"
   ]
  },
  {
   "cell_type": "code",
   "execution_count": 54,
   "metadata": {},
   "outputs": [
    {
     "ename": "NameError",
     "evalue": "name 'solarsys' is not defined",
     "output_type": "error",
     "traceback": [
      "\u001b[1;31m---------------------------------------------------------------------------\u001b[0m",
      "\u001b[1;31mNameError\u001b[0m                                 Traceback (most recent call last)",
      "\u001b[1;32m<ipython-input-54-ed3ca8b4c1a4>\u001b[0m in \u001b[0;36m<module>\u001b[1;34m\u001b[0m\n\u001b[0;32m      1\u001b[0m \u001b[1;32mdel\u001b[0m \u001b[0msolarsys\u001b[0m \u001b[1;31m# 리스트 삭제\u001b[0m\u001b[1;33m\u001b[0m\u001b[1;33m\u001b[0m\u001b[0m\n\u001b[1;32m----> 2\u001b[1;33m \u001b[0msolarsys\u001b[0m\u001b[1;33m\u001b[0m\u001b[1;33m\u001b[0m\u001b[0m\n\u001b[0m",
      "\u001b[1;31mNameError\u001b[0m: name 'solarsys' is not defined"
     ]
    }
   ],
   "source": [
    "del solarsys # 리스트 삭제\n",
    "solarsys"
   ]
  },
  {
   "cell_type": "code",
   "execution_count": 65,
   "metadata": {
    "scrolled": true
   },
   "outputs": [
    {
     "data": {
      "text/plain": [
       "[2, 4, 6, 8, 10, 12, 14, 16, 18, 20]"
      ]
     },
     "execution_count": 65,
     "metadata": {},
     "output_type": "execute_result"
    }
   ],
   "source": [
    "# a = list()\n",
    "# i = 2\n",
    "# for j in range(10)\n",
    "#     list.append(i)\n",
    "#     i += 2\n",
    "# print(a)\n",
    "\n",
    "list(range(2,21,2))"
   ]
  },
  {
   "cell_type": "code",
   "execution_count": 64,
   "metadata": {
    "scrolled": true
   },
   "outputs": [
    {
     "name": "stdout",
     "output_type": "stream",
     "text": [
      "[(0, '태양'), (1, '수성'), (2, '금성'), (3, '지구'), (4, '화성'), (5, '목성'), (6, '토성'), (7, '천왕성'), (8, '해왕성')]\n"
     ]
    }
   ],
   "source": [
    "solarsys = ['태양', '수성', '금성', '지구', '화성', '목성', '토성', '천왕성', '해왕성']\n",
    "\n",
    "sol_list = []\n",
    "for i in range(len(solarsys)):\n",
    "    sol_list.append((i,solarsys[i]))\n",
    "print(sol_list)"
   ]
  },
  {
   "cell_type": "code",
   "execution_count": 69,
   "metadata": {},
   "outputs": [
    {
     "name": "stdout",
     "output_type": "stream",
     "text": [
      "[(0, '태양'), (1, '수성'), (2, '금성'), (3, '지구'), (4, '화성'), (5, '목성'), (6, '토성'), (7, '천왕성'), (8, '해왕성')]\n"
     ]
    }
   ],
   "source": [
    "solarsys = ['태양', '수성', '금성', '지구', '화성', '목성', '토성', '천왕성', '해왕성']\n",
    "\n",
    "sol_list = []\n",
    "for i in enumerate(solarsys):\n",
    "    sol_list.append(i)\n",
    "print(sol_list)"
   ]
  },
  {
   "cell_type": "code",
   "execution_count": null,
   "metadata": {},
   "outputs": [],
   "source": []
  },
  {
   "cell_type": "code",
   "execution_count": null,
   "metadata": {},
   "outputs": [],
   "source": []
  }
 ],
 "metadata": {
  "kernelspec": {
   "display_name": "Python 3",
   "language": "python",
   "name": "python3"
  },
  "language_info": {
   "codemirror_mode": {
    "name": "ipython",
    "version": 3
   },
   "file_extension": ".py",
   "mimetype": "text/x-python",
   "name": "python",
   "nbconvert_exporter": "python",
   "pygments_lexer": "ipython3",
   "version": "3.7.3"
  }
 },
 "nbformat": 4,
 "nbformat_minor": 2
}
