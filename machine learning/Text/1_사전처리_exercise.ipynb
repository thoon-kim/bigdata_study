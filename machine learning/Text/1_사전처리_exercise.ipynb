{
 "cells": [
  {
   "cell_type": "markdown",
   "metadata": {},
   "source": [
    "1. 대소문자 통일\n",
    "2. 숫자, 문장부호, 특수문자 제거\n",
    "3. 불용어 제거\n",
    "4. 어근 통일화\n",
    "5. N_gram\n",
    "6. 품사분석\n",
    "7. Vectorize"
   ]
  },
  {
   "cell_type": "markdown",
   "metadata": {},
   "source": [
    "### 1. 대소문자 통일"
   ]
  },
  {
   "cell_type": "code",
   "execution_count": 1,
   "metadata": {},
   "outputs": [],
   "source": [
    "s = 'Hello World'"
   ]
  },
  {
   "cell_type": "code",
   "execution_count": 2,
   "metadata": {},
   "outputs": [
    {
     "data": {
      "text/plain": [
       "'hello world'"
      ]
     },
     "execution_count": 2,
     "metadata": {},
     "output_type": "execute_result"
    }
   ],
   "source": [
    "s.lower()"
   ]
  },
  {
   "cell_type": "code",
   "execution_count": 3,
   "metadata": {},
   "outputs": [
    {
     "data": {
      "text/plain": [
       "'HELLO WORLD'"
      ]
     },
     "execution_count": 3,
     "metadata": {},
     "output_type": "execute_result"
    }
   ],
   "source": [
    "s.upper()"
   ]
  },
  {
   "cell_type": "code",
   "execution_count": null,
   "metadata": {},
   "outputs": [],
   "source": []
  },
  {
   "cell_type": "markdown",
   "metadata": {},
   "source": [
    "### 2. 숫자, 문장부호, 특수문자 제거"
   ]
  },
  {
   "cell_type": "code",
   "execution_count": 4,
   "metadata": {},
   "outputs": [],
   "source": [
    "import re ## 정규식 모듈\n",
    "p = re.compile('[0-9]+')"
   ]
  },
  {
   "cell_type": "code",
   "execution_count": 5,
   "metadata": {},
   "outputs": [
    {
     "data": {
      "text/plain": [
       "'서울 부동산 가격이 올해 들어 평균 a% 상승했습니다.'"
      ]
     },
     "execution_count": 5,
     "metadata": {},
     "output_type": "execute_result"
    }
   ],
   "source": [
    "p.sub('a', '서울 부동산 가격이 올해 들어 평균 30% 상승했습니다.')"
   ]
  },
  {
   "cell_type": "code",
   "execution_count": 6,
   "metadata": {},
   "outputs": [],
   "source": [
    "p = re.compile('\\W+') # 문장부호 및 특수문자 제거"
   ]
  },
  {
   "cell_type": "code",
   "execution_count": 7,
   "metadata": {},
   "outputs": [
    {
     "data": {
      "text/plain": [
       "'주제_1s서울s부동산s가격이s올해s들어s평균s30s상승했습니다s'"
      ]
     },
     "execution_count": 7,
     "metadata": {},
     "output_type": "execute_result"
    }
   ],
   "source": [
    "p.sub('s', '주제_1 : *서울 부동산 가격이 올해 들어 평균 30% 상승했습니다.')"
   ]
  },
  {
   "cell_type": "code",
   "execution_count": 8,
   "metadata": {},
   "outputs": [],
   "source": [
    "p = re.compile('_')"
   ]
  },
  {
   "cell_type": "code",
   "execution_count": 9,
   "metadata": {},
   "outputs": [
    {
     "data": {
      "text/plain": [
       "'주제s1 : *서울 부동산 가격이 올해 들어 평균 30% 상승했습니다.'"
      ]
     },
     "execution_count": 9,
     "metadata": {},
     "output_type": "execute_result"
    }
   ],
   "source": [
    "p.sub('s', '주제_1 : *서울 부동산 가격이 올해 들어 평균 30% 상승했습니다.')"
   ]
  },
  {
   "cell_type": "code",
   "execution_count": null,
   "metadata": {},
   "outputs": [],
   "source": []
  },
  {
   "cell_type": "markdown",
   "metadata": {},
   "source": [
    "### 3. 불용어 제거"
   ]
  },
  {
   "cell_type": "code",
   "execution_count": 10,
   "metadata": {},
   "outputs": [],
   "source": [
    "words_korean = ['추적','연휴','민족','대이동','시작','늘어','교통량','교통사고','특히','자동차',\n",
    "                '고창','상당수','차지','나타','것','기자']"
   ]
  },
  {
   "cell_type": "code",
   "execution_count": 11,
   "metadata": {},
   "outputs": [],
   "source": [
    "stopwords = ['가다','늘어','나타','것','기자']"
   ]
  },
  {
   "cell_type": "code",
   "execution_count": 12,
   "metadata": {},
   "outputs": [
    {
     "data": {
      "text/plain": [
       "['추적', '연휴', '민족', '대이동', '시작', '교통량', '교통사고', '특히', '자동차', '고창', '상당수', '차지']"
      ]
     },
     "execution_count": 12,
     "metadata": {},
     "output_type": "execute_result"
    }
   ],
   "source": [
    "[i for i in words_korean if i not in stopwords]"
   ]
  },
  {
   "cell_type": "code",
   "execution_count": 13,
   "metadata": {},
   "outputs": [],
   "source": [
    "from nltk.corpus import stopwords"
   ]
  },
  {
   "cell_type": "code",
   "execution_count": 14,
   "metadata": {},
   "outputs": [
    {
     "name": "stderr",
     "output_type": "stream",
     "text": [
      "[nltk_data] Downloading package stopwords to\n",
      "[nltk_data]     C:\\Users\\user\\AppData\\Roaming\\nltk_data...\n",
      "[nltk_data]   Package stopwords is already up-to-date!\n"
     ]
    },
    {
     "data": {
      "text/plain": [
       "True"
      ]
     },
     "execution_count": 14,
     "metadata": {},
     "output_type": "execute_result"
    }
   ],
   "source": [
    "import nltk\n",
    "nltk.download('stopwords')"
   ]
  },
  {
   "cell_type": "code",
   "execution_count": 15,
   "metadata": {},
   "outputs": [],
   "source": [
    "words_english = ['chief','justice','roberts','president','carter','clinton','bush','president','obama',\n",
    "                'fellow',',','american','and','people','of',',','the','world','thank','you']"
   ]
  },
  {
   "cell_type": "code",
   "execution_count": 16,
   "metadata": {},
   "outputs": [
    {
     "data": {
      "text/plain": [
       "['chief',\n",
       " 'justice',\n",
       " 'roberts',\n",
       " 'president',\n",
       " 'carter',\n",
       " 'clinton',\n",
       " 'bush',\n",
       " 'president',\n",
       " 'obama',\n",
       " 'fellow',\n",
       " ',',\n",
       " 'american',\n",
       " 'people',\n",
       " ',',\n",
       " 'world',\n",
       " 'thank']"
      ]
     },
     "execution_count": 16,
     "metadata": {},
     "output_type": "execute_result"
    }
   ],
   "source": [
    "[w for w in words_english if not w in stopwords.words('english')]"
   ]
  },
  {
   "cell_type": "code",
   "execution_count": null,
   "metadata": {},
   "outputs": [],
   "source": []
  },
  {
   "cell_type": "markdown",
   "metadata": {},
   "source": [
    "### 4. 같은 어근 동일화"
   ]
  },
  {
   "cell_type": "code",
   "execution_count": 17,
   "metadata": {},
   "outputs": [],
   "source": [
    "from nltk.stem import PorterStemmer\n",
    "from nltk.tokenize import word_tokenize"
   ]
  },
  {
   "cell_type": "code",
   "execution_count": 18,
   "metadata": {},
   "outputs": [],
   "source": [
    "ps_stemmer = PorterStemmer()"
   ]
  },
  {
   "cell_type": "code",
   "execution_count": 21,
   "metadata": {},
   "outputs": [],
   "source": [
    "new_text = 'It is important to be immersed while you are pythoning with python. All pythoners have\\\n",
    " phythoned poorly at least once.'"
   ]
  },
  {
   "cell_type": "code",
   "execution_count": 22,
   "metadata": {},
   "outputs": [
    {
     "name": "stderr",
     "output_type": "stream",
     "text": [
      "[nltk_data] Downloading package punkt to\n",
      "[nltk_data]     C:\\Users\\user\\AppData\\Roaming\\nltk_data...\n",
      "[nltk_data]   Package punkt is already up-to-date!\n"
     ]
    },
    {
     "data": {
      "text/plain": [
       "True"
      ]
     },
     "execution_count": 22,
     "metadata": {},
     "output_type": "execute_result"
    }
   ],
   "source": [
    "nltk.download('punkt')"
   ]
  },
  {
   "cell_type": "code",
   "execution_count": 23,
   "metadata": {},
   "outputs": [
    {
     "name": "stdout",
     "output_type": "stream",
     "text": [
      "['It', 'is', 'important', 'to', 'be', 'immersed', 'while', 'you', 'are', 'pythoning', 'with', 'python', '.', 'All', 'pythoners', 'have', 'phythoned', 'poorly', 'at', 'least', 'once', '.']\n"
     ]
    }
   ],
   "source": [
    "words = word_tokenize(new_text)\n",
    "print(words)"
   ]
  },
  {
   "cell_type": "code",
   "execution_count": 26,
   "metadata": {},
   "outputs": [
    {
     "name": "stdout",
     "output_type": "stream",
     "text": [
      "It is import to be immers while you are python with python . all python have phython poorli at least onc . "
     ]
    }
   ],
   "source": [
    "for w in words:\n",
    "    print(ps_stemmer.stem(w), end = ' ')"
   ]
  },
  {
   "cell_type": "code",
   "execution_count": 27,
   "metadata": {},
   "outputs": [],
   "source": [
    "from nltk.stem.lancaster import LancasterStemmer"
   ]
  },
  {
   "cell_type": "code",
   "execution_count": 28,
   "metadata": {},
   "outputs": [],
   "source": [
    "LS_stemmer = LancasterStemmer()"
   ]
  },
  {
   "cell_type": "code",
   "execution_count": 29,
   "metadata": {},
   "outputs": [
    {
     "name": "stdout",
     "output_type": "stream",
     "text": [
      "it is import to be immers whil you ar python with python . al python hav phython poor at least ont . "
     ]
    }
   ],
   "source": [
    "for w in words:\n",
    "    print(LS_stemmer.stem(w), end = ' ')"
   ]
  },
  {
   "cell_type": "code",
   "execution_count": 30,
   "metadata": {},
   "outputs": [],
   "source": [
    "from nltk.stem.regexp import RegexpStemmer"
   ]
  },
  {
   "cell_type": "code",
   "execution_count": 31,
   "metadata": {},
   "outputs": [],
   "source": [
    "RS_stemmer = RegexpStemmer('Python')"
   ]
  },
  {
   "cell_type": "code",
   "execution_count": 32,
   "metadata": {},
   "outputs": [
    {
     "name": "stdout",
     "output_type": "stream",
     "text": [
      "It is important to be immersed while you are pythoning with python . All pythoners have phythoned poorly at least once . "
     ]
    }
   ],
   "source": [
    "for w in words:\n",
    "    print(RS_stemmer.stem(w), end = ' ')"
   ]
  },
  {
   "cell_type": "code",
   "execution_count": null,
   "metadata": {},
   "outputs": [],
   "source": []
  },
  {
   "cell_type": "markdown",
   "metadata": {},
   "source": [
    "### 5. N-gram"
   ]
  },
  {
   "cell_type": "code",
   "execution_count": 33,
   "metadata": {},
   "outputs": [],
   "source": [
    "from nltk import ngrams"
   ]
  },
  {
   "cell_type": "code",
   "execution_count": 34,
   "metadata": {},
   "outputs": [],
   "source": [
    "sentence = 'Chief Justice Roberts, President Carter, President Clinton, President Bush, President Obama,\\\n",
    " fellow Americans and people of the world, thank you. We, the citizens of America are now joined in a\\\n",
    "  great national effort to rebuild our country and restore its promise for all of our people. Together\\\n",
    "  , we will determine the course of America and the world for many, many years to come. we will \\\n",
    "  challenges. We will confront hardships, but we will get the job done.'"
   ]
  },
  {
   "cell_type": "code",
   "execution_count": 35,
   "metadata": {},
   "outputs": [
    {
     "name": "stdout",
     "output_type": "stream",
     "text": [
      "('Chief', 'Justice') ('Justice', 'Roberts,') ('Roberts,', 'President') ('President', 'Carter,') ('Carter,', 'President') ('President', 'Clinton,') ('Clinton,', 'President') ('President', 'Bush,') ('Bush,', 'President') ('President', 'Obama,') ('Obama,', 'fellow') ('fellow', 'Americans') ('Americans', 'and') ('and', 'people') ('people', 'of') ('of', 'the') ('the', 'world,') ('world,', 'thank') ('thank', 'you.') ('you.', 'We,') ('We,', 'the') ('the', 'citizens') ('citizens', 'of') ('of', 'America') ('America', 'are') ('are', 'now') ('now', 'joined') ('joined', 'in') ('in', 'a') ('a', 'great') ('great', 'national') ('national', 'effort') ('effort', 'to') ('to', 'rebuild') ('rebuild', 'our') ('our', 'country') ('country', 'and') ('and', 'restore') ('restore', 'its') ('its', 'promise') ('promise', 'for') ('for', 'all') ('all', 'of') ('of', 'our') ('our', 'people.') ('people.', 'Together') ('Together', ',') (',', 'we') ('we', 'will') ('will', 'determine') ('determine', 'the') ('the', 'course') ('course', 'of') ('of', 'America') ('America', 'and') ('and', 'the') ('the', 'world') ('world', 'for') ('for', 'many,') ('many,', 'many') ('many', 'years') ('years', 'to') ('to', 'come.') ('come.', 'we') ('we', 'will') ('will', 'challenges.') ('challenges.', 'We') ('We', 'will') ('will', 'confront') ('confront', 'hardships,') ('hardships,', 'but') ('but', 'we') ('we', 'will') ('will', 'get') ('get', 'the') ('the', 'job') ('job', 'done.') "
     ]
    }
   ],
   "source": [
    "grams = ngrams(sentence.split(), 2)\n",
    "for gram in grams:\n",
    "    print(gram, end = ' ')"
   ]
  },
  {
   "cell_type": "code",
   "execution_count": 36,
   "metadata": {},
   "outputs": [
    {
     "name": "stdout",
     "output_type": "stream",
     "text": [
      "('Chief', 'Justice', 'Roberts,') ('Justice', 'Roberts,', 'President') ('Roberts,', 'President', 'Carter,') ('President', 'Carter,', 'President') ('Carter,', 'President', 'Clinton,') ('President', 'Clinton,', 'President') ('Clinton,', 'President', 'Bush,') ('President', 'Bush,', 'President') ('Bush,', 'President', 'Obama,') ('President', 'Obama,', 'fellow') ('Obama,', 'fellow', 'Americans') ('fellow', 'Americans', 'and') ('Americans', 'and', 'people') ('and', 'people', 'of') ('people', 'of', 'the') ('of', 'the', 'world,') ('the', 'world,', 'thank') ('world,', 'thank', 'you.') ('thank', 'you.', 'We,') ('you.', 'We,', 'the') ('We,', 'the', 'citizens') ('the', 'citizens', 'of') ('citizens', 'of', 'America') ('of', 'America', 'are') ('America', 'are', 'now') ('are', 'now', 'joined') ('now', 'joined', 'in') ('joined', 'in', 'a') ('in', 'a', 'great') ('a', 'great', 'national') ('great', 'national', 'effort') ('national', 'effort', 'to') ('effort', 'to', 'rebuild') ('to', 'rebuild', 'our') ('rebuild', 'our', 'country') ('our', 'country', 'and') ('country', 'and', 'restore') ('and', 'restore', 'its') ('restore', 'its', 'promise') ('its', 'promise', 'for') ('promise', 'for', 'all') ('for', 'all', 'of') ('all', 'of', 'our') ('of', 'our', 'people.') ('our', 'people.', 'Together') ('people.', 'Together', ',') ('Together', ',', 'we') (',', 'we', 'will') ('we', 'will', 'determine') ('will', 'determine', 'the') ('determine', 'the', 'course') ('the', 'course', 'of') ('course', 'of', 'America') ('of', 'America', 'and') ('America', 'and', 'the') ('and', 'the', 'world') ('the', 'world', 'for') ('world', 'for', 'many,') ('for', 'many,', 'many') ('many,', 'many', 'years') ('many', 'years', 'to') ('years', 'to', 'come.') ('to', 'come.', 'we') ('come.', 'we', 'will') ('we', 'will', 'challenges.') ('will', 'challenges.', 'We') ('challenges.', 'We', 'will') ('We', 'will', 'confront') ('will', 'confront', 'hardships,') ('confront', 'hardships,', 'but') ('hardships,', 'but', 'we') ('but', 'we', 'will') ('we', 'will', 'get') ('will', 'get', 'the') ('get', 'the', 'job') ('the', 'job', 'done.') "
     ]
    }
   ],
   "source": [
    "grams = ngrams(sentence.split(), 3)\n",
    "for gram in grams:\n",
    "    print(gram, end = ' ')"
   ]
  },
  {
   "cell_type": "code",
   "execution_count": null,
   "metadata": {},
   "outputs": [],
   "source": []
  },
  {
   "cell_type": "markdown",
   "metadata": {},
   "source": [
    "### 6. 품사 Tag"
   ]
  },
  {
   "cell_type": "code",
   "execution_count": null,
   "metadata": {},
   "outputs": [],
   "source": []
  },
  {
   "cell_type": "code",
   "execution_count": null,
   "metadata": {},
   "outputs": [],
   "source": []
  },
  {
   "cell_type": "code",
   "execution_count": null,
   "metadata": {},
   "outputs": [],
   "source": []
  },
  {
   "cell_type": "code",
   "execution_count": null,
   "metadata": {},
   "outputs": [],
   "source": []
  }
 ],
 "metadata": {
  "kernelspec": {
   "display_name": "Python 3",
   "language": "python",
   "name": "python3"
  },
  "language_info": {
   "codemirror_mode": {
    "name": "ipython",
    "version": 3
   },
   "file_extension": ".py",
   "mimetype": "text/x-python",
   "name": "python",
   "nbconvert_exporter": "python",
   "pygments_lexer": "ipython3",
   "version": "3.7.3"
  }
 },
 "nbformat": 4,
 "nbformat_minor": 2
}
