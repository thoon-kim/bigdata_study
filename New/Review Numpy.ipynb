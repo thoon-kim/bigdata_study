{
 "cells": [
  {
   "cell_type": "code",
   "execution_count": 18,
   "metadata": {},
   "outputs": [
    {
     "data": {
      "text/plain": [
       "array([(10,), (20,), (30,)], dtype=[('age', 'i1')])"
      ]
     },
     "execution_count": 18,
     "metadata": {},
     "output_type": "execute_result"
    }
   ],
   "source": [
    "import numpy as np\n",
    "a = np.array([1,2,3,4,5])\n",
    "a\n",
    "a1 = np.array([[1,2],[3,4]])\n",
    "a1\n",
    "a2 = np.array([1,2,3,4], ndmin=2)\n",
    "a2\n",
    "a3 = np.array([1,2,3], dtype = complex)\n",
    "a3\n",
    "a4 = np.dtype(np.int32)\n",
    "a4\n",
    "a5 = np.dtype([('age',np.int8)])\n",
    "a6 = np.array([(10,),(20,),(30,)], dtype = a5)\n",
    "a6\n"
   ]
  },
  {
   "cell_type": "code",
   "execution_count": 37,
   "metadata": {},
   "outputs": [
    {
     "data": {
      "text/plain": [
       "4"
      ]
     },
     "execution_count": 37,
     "metadata": {},
     "output_type": "execute_result"
    }
   ],
   "source": [
    "a7 = np.array([[1,2,3],[4,5,6]])\n",
    "a7.shape\n",
    "a8 = np.array([[1,2,3],[4,5,6]])\n",
    "a8.shape = (3,2)\n",
    "a8\n",
    "a9 = np.array([[1,2,3],[4,5,6]])\n",
    "a10 = a9.reshape(3,2)\n",
    "a10\n",
    "a11 = np.arange(10)\n",
    "a11.ndim\n",
    "a12 = np.arange(24)\n",
    "a13 = a12.reshape(2,4,3)\n",
    "a13\n",
    "a13.itemsize\n"
   ]
  },
  {
   "cell_type": "code",
   "execution_count": 41,
   "metadata": {},
   "outputs": [
    {
     "data": {
      "text/plain": [
       "array([[1, 1],\n",
       "       [1, 1]])"
      ]
     },
     "execution_count": 41,
     "metadata": {},
     "output_type": "execute_result"
    }
   ],
   "source": [
    "a14 = np.empty([3,2], dtype=int)\n",
    "a14\n",
    "a15 = np.zeros(5)\n",
    "a15\n",
    "a16 = np.ones(5)\n",
    "a16\n",
    "a17 = np.ones([2,2], dtype=int)\n",
    "a17"
   ]
  }
 ],
 "metadata": {
  "kernelspec": {
   "display_name": "Python 3",
   "language": "python",
   "name": "python3"
  },
  "language_info": {
   "codemirror_mode": {
    "name": "ipython",
    "version": 3
   },
   "file_extension": ".py",
   "mimetype": "text/x-python",
   "name": "python",
   "nbconvert_exporter": "python",
   "pygments_lexer": "ipython3",
   "version": "3.7.3"
  }
 },
 "nbformat": 4,
 "nbformat_minor": 2
}
