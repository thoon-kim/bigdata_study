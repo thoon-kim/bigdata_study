{
 "cells": [
  {
   "cell_type": "code",
   "execution_count": 10,
   "metadata": {
    "scrolled": true
   },
   "outputs": [
    {
     "name": "stdout",
     "output_type": "stream",
     "text": [
      "School.name2 :  1234\n",
      "s.name2 :  1234\n",
      "School.name2 :  1234\n",
      "s.name2 :  이순신\n",
      "School.name2 :  강감찬\n",
      "s.name2 :  이순신\n"
     ]
    }
   ],
   "source": [
    "# class variable vs instance variable\n",
    "# class variable -> shared variables in instance\n",
    "# instance variable -> in instance\n",
    "class School:\n",
    "    name2 = '1234'\n",
    "    def getName(self):\n",
    "        return School.name2\n",
    "    def getName2(self):\n",
    "        return self.name2\n",
    "    def setName(self, name):\n",
    "        self.name2 = name\n",
    "    def setName2(self, name):\n",
    "        School.name2 = name\n",
    "\n",
    "s = School() # s => instance / School => class\n",
    "print(\"School.name2 : \", s.getName())\n",
    "print(\"s.name2 : \", s.getName2())\n",
    "\n",
    "s.setName('이순신')\n",
    "print(\"School.name2 : \", s.getName())\n",
    "print(\"s.name2 : \", s.getName2())\n",
    "\n",
    "s.setName2('강감찬')\n",
    "print(\"School.name2 : \", s.getName())\n",
    "print(\"s.name2 : \", s.getName2())"
   ]
  },
  {
   "cell_type": "code",
   "execution_count": 17,
   "metadata": {},
   "outputs": [
    {
     "name": "stdout",
     "output_type": "stream",
     "text": [
      "Selling price : 1000\n",
      "Selling price : 1000\n",
      "Selling price : 2000\n"
     ]
    }
   ],
   "source": [
    "# 캡슐화, 상속성, 다양성\n",
    "# Data Hide\n",
    "\n",
    "class Computer:\n",
    "    def __init__(self):\n",
    "        self.__maxprice = 1000\n",
    "    def sell(self):\n",
    "        print(\"Selling price : %d\" % self.__maxprice)\n",
    "    def setMaxPrice(self, price):\n",
    "        self.__maxprice = price\n",
    "            \n",
    "c = Computer()\n",
    "c.sell()\n",
    "c.__maxprice = 2000 # 안 바뀜\n",
    "c.sell()\n",
    "c.setMaxPrice(2000) # 바뀜\n",
    "c.sell()"
   ]
  },
  {
   "cell_type": "code",
   "execution_count": 74,
   "metadata": {},
   "outputs": [
    {
     "name": "stdout",
     "output_type": "stream",
     "text": [
      "Aniaml breath\n",
      "Dog breath\n",
      "Bird breath\n"
     ]
    }
   ],
   "source": [
    "# 다양성(polymorphism)\n",
    "# Animal <- Dog\n",
    "# Animal <- Bird\n",
    "\n",
    "class Animal:\n",
    "    def breath(self):\n",
    "        print(\"Aniaml breath\")\n",
    "    \n",
    "class Dog(Animal):\n",
    "    def breath(self):\n",
    "        print(\"Dog breath\")\n",
    "\n",
    "class Bird(Animal):\n",
    "    def breath(self):\n",
    "        print(\"Bird breath\")\n",
    "\n",
    "a = Animal()\n",
    "# a.breath()\n",
    "d = Dog()\n",
    "# d.breath()\n",
    "b = Bird()\n",
    "# b.breath()\n",
    "\n",
    "def Execute(test):\n",
    "    test.breath()\n",
    "\n",
    "Execute(a)\n",
    "Execute(d)\n",
    "Execute(b)\n"
   ]
  },
  {
   "cell_type": "code",
   "execution_count": 28,
   "metadata": {},
   "outputs": [
    {
     "name": "stdout",
     "output_type": "stream",
     "text": [
      "10 *\n",
      "9 *\n",
      "8 *\n",
      "7 *\n",
      "6 *\n",
      "5 *\n",
      "4 *\n",
      "3 *\n",
      "2 *\n",
      "1 *\n",
      "End\n"
     ]
    }
   ],
   "source": [
    "# Recursive Function\n",
    "\n",
    "def recurse(count):\n",
    "    if count <= 0:\n",
    "        print('End')\n",
    "    else:\n",
    "        print(count, '*')\n",
    "        recurse(count-1)\n",
    "        \n",
    "recurse(10)        "
   ]
  },
  {
   "cell_type": "code",
   "execution_count": 73,
   "metadata": {},
   "outputs": [
    {
     "name": "stdout",
     "output_type": "stream",
     "text": [
      " 1\n",
      "   1.1\n",
      "     1.1.1\n",
      "       1.1.1.1\n",
      "     1.1.2\n",
      "     1.1.3\n",
      "   1.2\n"
     ]
    }
   ],
   "source": [
    "data = {'count': 2,\n",
    "        'text': '1',\n",
    "        'values': [{'count': 3,\n",
    "                  'text': '1.1',\n",
    "                  'values': [{'count': 1,\n",
    "                            'text': '1.1.1',\n",
    "                            'values': [{'count':0,\n",
    "                                      'text': '1.1.1.1',\n",
    "                                      'values': []}]},\n",
    "                           {'count': 0,\n",
    "                            'text': '1.1.2',\n",
    "                            'values': []},\n",
    "                           {'count': 0,\n",
    "                            'text': '1.1.3',\n",
    "                            'values': []}]},\n",
    "                 {'count': 0,\n",
    "                  'text': '1.2',\n",
    "                  'values': []}]}\n",
    "\n",
    "def recursion(depth, data):\n",
    "    print(\"  \" * depth, data['text'])\n",
    "    depth += 1\n",
    "    for i in range(data['count']):\n",
    "        recursion(depth, data['values'][i])\n",
    "\n",
    "recursion(0, data)"
   ]
  },
  {
   "cell_type": "code",
   "execution_count": null,
   "metadata": {},
   "outputs": [],
   "source": []
  },
  {
   "cell_type": "code",
   "execution_count": 98,
   "metadata": {
    "scrolled": true
   },
   "outputs": [
    {
     "name": "stdout",
     "output_type": "stream",
     "text": [
      "Zero\n",
      "One\n",
      "Two\n",
      "Three\n"
     ]
    }
   ],
   "source": [
    "# linked list\n",
    "\n",
    "class Node:\n",
    "    def __init__(self, dataval = None):\n",
    "        self.dataval = dataval\n",
    "        self.nextval = None\n",
    "\n",
    "class SLinkedList:\n",
    "    def __init__(self):\n",
    "        self.headval = None\n",
    "    def listprint(self):\n",
    "        printval = self.headval\n",
    "        while printval is not None:\n",
    "            print(printval.dataval)\n",
    "            printval = printval.nextval\n",
    "    def insert(self, newdata): # 맨앞에 삽입\n",
    "        NewNode = Node(newdata)\n",
    "        NewNode.nextval = self.headval\n",
    "        self.headval = NewNode\n",
    "        \n",
    "list1 = SLinkedList()\n",
    "list1.headval = Node(\"One\")\n",
    "e2 = Node(\"Two\")\n",
    "e3 = Node(\"Three\")\n",
    "\n",
    "list1.headval.nextval = e2\n",
    "e2.nextval = e3\n",
    "\n",
    "# list1.listprint()\n",
    "\n",
    "list1.insert(\"Zero\")\n",
    "list1.listprint()"
   ]
  },
  {
   "cell_type": "code",
   "execution_count": null,
   "metadata": {},
   "outputs": [],
   "source": []
  },
  {
   "cell_type": "code",
   "execution_count": null,
   "metadata": {},
   "outputs": [],
   "source": []
  },
  {
   "cell_type": "code",
   "execution_count": null,
   "metadata": {},
   "outputs": [],
   "source": []
  },
  {
   "cell_type": "code",
   "execution_count": null,
   "metadata": {},
   "outputs": [],
   "source": []
  },
  {
   "cell_type": "code",
   "execution_count": null,
   "metadata": {},
   "outputs": [],
   "source": []
  },
  {
   "cell_type": "code",
   "execution_count": null,
   "metadata": {},
   "outputs": [],
   "source": []
  },
  {
   "cell_type": "code",
   "execution_count": null,
   "metadata": {},
   "outputs": [],
   "source": []
  },
  {
   "cell_type": "code",
   "execution_count": null,
   "metadata": {},
   "outputs": [],
   "source": []
  },
  {
   "cell_type": "code",
   "execution_count": null,
   "metadata": {},
   "outputs": [],
   "source": []
  },
  {
   "cell_type": "code",
   "execution_count": null,
   "metadata": {},
   "outputs": [],
   "source": []
  },
  {
   "cell_type": "code",
   "execution_count": null,
   "metadata": {},
   "outputs": [],
   "source": []
  }
 ],
 "metadata": {
  "kernelspec": {
   "display_name": "Python 3",
   "language": "python",
   "name": "python3"
  },
  "language_info": {
   "codemirror_mode": {
    "name": "ipython",
    "version": 3
   },
   "file_extension": ".py",
   "mimetype": "text/x-python",
   "name": "python",
   "nbconvert_exporter": "python",
   "pygments_lexer": "ipython3",
   "version": "3.7.3"
  }
 },
 "nbformat": 4,
 "nbformat_minor": 2
}
