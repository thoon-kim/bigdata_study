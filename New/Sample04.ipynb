{
 "cells": [
  {
   "cell_type": "code",
   "execution_count": 12,
   "metadata": {
    "scrolled": true
   },
   "outputs": [
    {
     "name": "stdout",
     "output_type": "stream",
     "text": [
      "One\n",
      "Two\n",
      "Three\n",
      "Four\n",
      "One\n",
      "Two\n",
      "Three\n"
     ]
    }
   ],
   "source": [
    "class Node:\n",
    "    def __init__(self, dataval=None):\n",
    "        self.dataval = dataval\n",
    "        self.nextval = None\n",
    "class SLinkedList:\n",
    "    def __init__(self):\n",
    "        self.headval = None\n",
    "    def listprint(self):\n",
    "        printval = self.headval\n",
    "        while printval is not None:\n",
    "            print(printval.dataval)\n",
    "            printval = printval.nextval\n",
    "    def insert(self, newdata):\n",
    "        NewNode = Node(newdata)\n",
    "        NewNode.nextval = self.headval\n",
    "        self.headval = NewNode        \n",
    "list1 = SLinkedList()    \n",
    "list1.headval = Node(\"One\")\n",
    "e2 = Node(\"Two\")\n",
    "e3 = Node(\"Three\")\n",
    "list1.headval.nextval = e2\n",
    "e2.nextval = e3\n",
    "list1.listprint()\n",
    "list1.insert(\"Four\")\n",
    "list1.listprint()  "
   ]
  }
 ],
 "metadata": {
  "kernelspec": {
   "display_name": "Python 3",
   "language": "python",
   "name": "python3"
  },
  "language_info": {
   "codemirror_mode": {
    "name": "ipython",
    "version": 3
   },
   "file_extension": ".py",
   "mimetype": "text/x-python",
   "name": "python",
   "nbconvert_exporter": "python",
   "pygments_lexer": "ipython3",
   "version": "3.7.3"
  }
 },
 "nbformat": 4,
 "nbformat_minor": 2
}
