{
 "cells": [
  {
   "cell_type": "code",
   "execution_count": 2,
   "metadata": {},
   "outputs": [
    {
     "name": "stdout",
     "output_type": "stream",
     "text": [
      "이순신\n",
      "1234\n"
     ]
    }
   ],
   "source": [
    "class Student:\n",
    "    name2 = '1234'\n",
    "    def getName(self):\n",
    "        return self.name2\n",
    "    def getName2(self):\n",
    "        return Student.name2\n",
    "    def setName(self, name):\n",
    "        self.name2 = name\n",
    "        \n",
    "stu = Student()\n",
    "stu.setName('이순신')\n",
    "print(stu.getName())\n",
    "print(stu.getName2())"
   ]
  }
 ],
 "metadata": {
  "kernelspec": {
   "display_name": "Python 3",
   "language": "python",
   "name": "python3"
  },
  "language_info": {
   "codemirror_mode": {
    "name": "ipython",
    "version": 3
   },
   "file_extension": ".py",
   "mimetype": "text/x-python",
   "name": "python",
   "nbconvert_exporter": "python",
   "pygments_lexer": "ipython3",
   "version": "3.7.3"
  }
 },
 "nbformat": 4,
 "nbformat_minor": 2
}
