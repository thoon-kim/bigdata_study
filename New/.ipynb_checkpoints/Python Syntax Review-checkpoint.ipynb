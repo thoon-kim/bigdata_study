{
 "cells": [
  {
   "cell_type": "code",
   "execution_count": 51,
   "metadata": {},
   "outputs": [
    {
     "name": "stdout",
     "output_type": "stream",
     "text": [
      "aaa\n",
      "Multiple Commnet\n",
      "bbb\n",
      "ccc\n"
     ]
    }
   ],
   "source": [
    "#!/usr/bin/python3\n",
    "\n",
    "# python test.py\n",
    "\n",
    "test = '''aaa\n",
    "Multiple Commnet\n",
    "bbb\n",
    "ccc'''\n",
    "\n",
    "print(test)"
   ]
  },
  {
   "cell_type": "code",
   "execution_count": 14,
   "metadata": {
    "scrolled": true
   },
   "outputs": [
    {
     "name": "stdout",
     "output_type": "stream",
     "text": [
      "1 1 1\n",
      "1 2 3\n"
     ]
    }
   ],
   "source": [
    "# Variable Types\n",
    "count = 100\n",
    "miles = 100.0\n",
    "name = \"Tom\"\n",
    "\n",
    "a = b = c = 1\n",
    "print(a, b, c)\n",
    "a, b, c = 1, 2, 3\n",
    "print(a, b, c)"
   ]
  },
  {
   "cell_type": "code",
   "execution_count": 15,
   "metadata": {},
   "outputs": [],
   "source": [
    "# Standard Data Types\n",
    "# Numbers\n",
    "# String\n",
    "# List\n",
    "# Tuple\n",
    "# Dictionary\n",
    "\n",
    "del a # 변수 삭제\n",
    "\n",
    "# Numberic Types => int, float, complex\n",
    "# int => 10\n",
    "# float => 10.0\n",
    "# complex => 3.14j"
   ]
  },
  {
   "cell_type": "code",
   "execution_count": 20,
   "metadata": {},
   "outputs": [
    {
     "name": "stdout",
     "output_type": "stream",
     "text": [
      "Hello PythonHello Python\n",
      "Hello PythonTest\n",
      "Hello Pytho\n"
     ]
    }
   ],
   "source": [
    "# String\n",
    "str = \"Hello Python\"\n",
    "print(str * 2)\n",
    "print(str + \"Test\")\n",
    "print(str[:-1])"
   ]
  },
  {
   "cell_type": "code",
   "execution_count": 56,
   "metadata": {
    "scrolled": true
   },
   "outputs": [
    {
     "name": "stdout",
     "output_type": "stream",
     "text": [
      "['f', 'b', 'f', 'b']\n",
      "['f', 'b', 'c', 'd']\n",
      "['f', 'b']\n"
     ]
    }
   ],
   "source": [
    "# List\n",
    "li = ['a', 'b']\n",
    "print(list * 2)\n",
    "list2 = ['c', 'd']\n",
    "print(list + list2)\n",
    "list[0] = 'f'\n",
    "print(list)"
   ]
  },
  {
   "cell_type": "code",
   "execution_count": 25,
   "metadata": {},
   "outputs": [
    {
     "name": "stdout",
     "output_type": "stream",
     "text": [
      "(1, '2', 'test')\n"
     ]
    }
   ],
   "source": [
    "# Tuple\n",
    "tuple = (1, \"2\", \"test\") # 수정 안됨\n",
    "print(tuple)\n",
    "# tuple[0] = 100 # error"
   ]
  },
  {
   "cell_type": "code",
   "execution_count": 33,
   "metadata": {},
   "outputs": [
    {
     "name": "stdout",
     "output_type": "stream",
     "text": [
      "{'one': 'This is one', 'two': 'This is two'}\n",
      "This is one\n",
      "dict_keys(['one', 'two'])\n",
      "dict_values(['This is one', 'This is two'])\n"
     ]
    }
   ],
   "source": [
    "# Dictionary\n",
    "dict = {} # Key : Value\n",
    "dict[\"one\"] = 'This is one'\n",
    "dict[\"two\"] = 'This is two'\n",
    "print(dict)\n",
    "print(dict[\"one\"])\n",
    "print(dict.keys())\n",
    "print(dict.values())"
   ]
  },
  {
   "cell_type": "code",
   "execution_count": null,
   "metadata": {},
   "outputs": [],
   "source": [
    "# Data Conversion\n",
    "# set, dict, str, int, float, repr, eval, tuple"
   ]
  },
  {
   "cell_type": "code",
   "execution_count": null,
   "metadata": {},
   "outputs": [],
   "source": [
    "# Basic Operators\n",
    "# Arithmetic Operator\n",
    "# +, --, *, /, %, **, \n",
    "# Comparison Operator\n",
    "# ==, !=, >, <, >=, <=\n",
    "# Assignment Operator\n",
    "# =, +=, -=, *=, **=\n",
    "# Logical Operator\n",
    "# and, or, not\n",
    "# Membership Operator\n",
    "# in, not in\n",
    "# Identity Operator"
   ]
  },
  {
   "cell_type": "code",
   "execution_count": 37,
   "metadata": {},
   "outputs": [
    {
     "name": "stdout",
     "output_type": "stream",
     "text": [
      "b\n"
     ]
    }
   ],
   "source": [
    "# Decision Making\n",
    "if b:\n",
    "    print('b')\n",
    "elif c:\n",
    "    print('c')\n",
    "else:\n",
    "    print('d')"
   ]
  },
  {
   "cell_type": "code",
   "execution_count": 41,
   "metadata": {},
   "outputs": [
    {
     "name": "stdout",
     "output_type": "stream",
     "text": [
      "Count : 2\n",
      "Count : 1\n"
     ]
    }
   ],
   "source": [
    "# Loop\n",
    "a = 2\n",
    "while a:\n",
    "    print(\"Count :\", a)\n",
    "    a -= 1"
   ]
  },
  {
   "cell_type": "code",
   "execution_count": 43,
   "metadata": {},
   "outputs": [
    {
     "name": "stdout",
     "output_type": "stream",
     "text": [
      "0 is less then 5\n",
      "1 is less then 5\n",
      "2 is less then 5\n",
      "3 is less then 5\n",
      "4 is less then 5\n",
      "5 is not less then 5\n"
     ]
    }
   ],
   "source": [
    "count = 0\n",
    "while count < 5:\n",
    "    print(count, \"is less then 5\")\n",
    "    count = count + 1\n",
    "else:\n",
    "    print(count, \"is not less then 5\")"
   ]
  },
  {
   "cell_type": "code",
   "execution_count": 7,
   "metadata": {
    "scrolled": false
   },
   "outputs": [
    {
     "name": "stdout",
     "output_type": "stream",
     "text": [
      "P y t h o n banana apple mange banana apple mange "
     ]
    }
   ],
   "source": [
    "range(10)\n",
    "list(range(10))\n",
    "\n",
    "for letter in \"Python\":\n",
    "    print(letter, end = \" \")\n",
    "fruits = ['banana', 'apple', 'mange']\n",
    "for fruit in fruits:\n",
    "    print(fruit, end = \" \")\n",
    "for index in range(len(fruits)):\n",
    "    print(fruits[index], end = \" \")"
   ]
  },
  {
   "cell_type": "code",
   "execution_count": 12,
   "metadata": {},
   "outputs": [
    {
     "name": "stdout",
     "output_type": "stream",
     "text": [
      "num : 10\n"
     ]
    }
   ],
   "source": [
    "numbers = [11,21,10,123,11,123,15,11,151,515,15,15,15]\n",
    "for num in numbers:\n",
    "    if num %2 == 0:\n",
    "        print(\"num :\", num)\n",
    "        break\n",
    "else:\n",
    "    print(\"Exception\")"
   ]
  },
  {
   "cell_type": "code",
   "execution_count": 46,
   "metadata": {},
   "outputs": [
    {
     "name": "stdout",
     "output_type": "stream",
     "text": [
      "time.struct_time(tm_year=2019, tm_mon=7, tm_mday=1, tm_hour=11, tm_min=24, tm_sec=4, tm_wday=0, tm_yday=182, tm_isdst=0)\n",
      "time.struct_time(tm_year=2019, tm_mon=7, tm_mday=1, tm_hour=11, tm_min=24, tm_sec=4, tm_wday=0, tm_yday=182, tm_isdst=0)\n"
     ]
    }
   ],
   "source": [
    "import time\n",
    "print(time.localtime())\n",
    "localtime = time.localtime(time.time())\n",
    "print(localtime)"
   ]
  },
  {
   "cell_type": "code",
   "execution_count": 18,
   "metadata": {},
   "outputs": [
    {
     "name": "stdout",
     "output_type": "stream",
     "text": [
      "Hello Python Function\n",
      "End\n"
     ]
    }
   ],
   "source": [
    "# Functions\n",
    "def printTest(str):\n",
    "    print(str)\n",
    "    return\n",
    "\n",
    "printTest(\"Hello Python Function\")\n",
    "print(\"End\")"
   ]
  },
  {
   "cell_type": "code",
   "execution_count": 21,
   "metadata": {},
   "outputs": [
    {
     "name": "stdout",
     "output_type": "stream",
     "text": [
      "[10, 20, 30]\n",
      "[10, 20, 50]\n"
     ]
    }
   ],
   "source": [
    "def changeme(mylist):\n",
    "    print(mylist)\n",
    "    mylist[2] = 50\n",
    "    print(mylist)\n",
    "    return\n",
    "\n",
    "mylist = [10, 20, 30]\n",
    "changeme(mylist)"
   ]
  },
  {
   "cell_type": "code",
   "execution_count": 30,
   "metadata": {},
   "outputs": [
    {
     "name": "stdout",
     "output_type": "stream",
     "text": [
      "이순신\n",
      "30\n",
      "arg1 : 10\n",
      "arg1 : 10\n",
      "var : 20\n",
      "var : 30\n",
      "3\n",
      "3\n"
     ]
    }
   ],
   "source": [
    "def printinfo(name, age):\n",
    "    print(name)\n",
    "    print(age)\n",
    "    return\n",
    "\n",
    "printinfo(name = \"이순신\", age = 30)\n",
    "\n",
    "def printinfo2(arg1, *vartuple): # *가변인자 파라미터\n",
    "    print(\"arg1 :\", arg1)\n",
    "    for var in vartuple:\n",
    "        print(\"var :\", var)\n",
    "    return \n",
    "\n",
    "printinfo2(10)\n",
    "printinfo2(10,20,30)\n",
    "\n",
    "sum = lambda arg1, arg2: arg1 + arg2\n",
    "print(sum(1,2))\n",
    "\n",
    "def add_num(arg1, arg2):\n",
    "    return arg1 + arg2\n",
    "\n",
    "a = add_num(1,2)\n",
    "print(a)"
   ]
  },
  {
   "cell_type": "code",
   "execution_count": null,
   "metadata": {},
   "outputs": [],
   "source": []
  },
  {
   "cell_type": "code",
   "execution_count": null,
   "metadata": {},
   "outputs": [],
   "source": []
  },
  {
   "cell_type": "code",
   "execution_count": null,
   "metadata": {},
   "outputs": [],
   "source": []
  },
  {
   "cell_type": "code",
   "execution_count": null,
   "metadata": {},
   "outputs": [],
   "source": []
  },
  {
   "cell_type": "code",
   "execution_count": null,
   "metadata": {},
   "outputs": [],
   "source": []
  },
  {
   "cell_type": "code",
   "execution_count": null,
   "metadata": {},
   "outputs": [],
   "source": []
  },
  {
   "cell_type": "code",
   "execution_count": null,
   "metadata": {},
   "outputs": [],
   "source": []
  },
  {
   "cell_type": "code",
   "execution_count": null,
   "metadata": {},
   "outputs": [],
   "source": []
  }
 ],
 "metadata": {
  "kernelspec": {
   "display_name": "Python 3",
   "language": "python",
   "name": "python3"
  },
  "language_info": {
   "codemirror_mode": {
    "name": "ipython",
    "version": 3
   },
   "file_extension": ".py",
   "mimetype": "text/x-python",
   "name": "python",
   "nbconvert_exporter": "python",
   "pygments_lexer": "ipython3",
   "version": "3.7.3"
  }
 },
 "nbformat": 4,
 "nbformat_minor": 2
}
