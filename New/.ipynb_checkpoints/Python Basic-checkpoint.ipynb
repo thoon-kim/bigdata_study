{
 "cells": [
  {
   "cell_type": "code",
   "execution_count": null,
   "metadata": {},
   "outputs": [],
   "source": [
    "# Pandas\n",
    "# Data Structure\n",
    "# 1. Series 1차원\n",
    "# 2. DataFrame 2차원\n",
    "# 3. Panel 3차원\n",
    "\n",
    "\n",
    "# index, columns\n",
    "# index(axis = 0), columns(axis = 1)"
   ]
  },
  {
   "cell_type": "code",
   "execution_count": 1,
   "metadata": {},
   "outputs": [],
   "source": [
    "import pandas as pd"
   ]
  },
  {
   "cell_type": "code",
   "execution_count": 2,
   "metadata": {},
   "outputs": [
    {
     "data": {
      "text/plain": [
       "Series([], dtype: float64)"
      ]
     },
     "execution_count": 2,
     "metadata": {},
     "output_type": "execute_result"
    }
   ],
   "source": [
    "# Series (Size - Immutable : 바꿀수없음)\n",
    "s = pd.Series()\n",
    "s"
   ]
  },
  {
   "cell_type": "code",
   "execution_count": 16,
   "metadata": {},
   "outputs": [
    {
     "name": "stdout",
     "output_type": "stream",
     "text": [
      "1.0\n",
      "1.0\n"
     ]
    },
    {
     "data": {
      "text/plain": [
       "a    0.0\n",
       "b    1.0\n",
       "dtype: float64"
      ]
     },
     "execution_count": 16,
     "metadata": {},
     "output_type": "execute_result"
    }
   ],
   "source": [
    "import numpy as np\n",
    "import pandas as pd\n",
    "data = np.array(['a', 'b', 'c', 'd'])\n",
    "s1 = pd.Series(data)\n",
    "s1\n",
    "s2 = pd.Series(data, index = [100, 101, 102, 103])\n",
    "s2\n",
    "data2 = {'a':0, 'b':1, 'c':2, 'd':3}\n",
    "s3 = pd.Series(data2)\n",
    "s3\n",
    "s4 = pd.Series(data2, index=['b', 'a', 'c', 'e']) # index값으로 찾아서 Series에 넣어줌\n",
    "s4\n",
    "print(s4[0])\n",
    "print(s4['b'])\n",
    "s4[:3]\n",
    "s4[1:]\n",
    "s4[-3:]\n",
    "s4[['a', 'b']]"
   ]
  },
  {
   "cell_type": "code",
   "execution_count": 22,
   "metadata": {},
   "outputs": [
    {
     "data": {
      "text/html": [
       "<div>\n",
       "<style scoped>\n",
       "    .dataframe tbody tr th:only-of-type {\n",
       "        vertical-align: middle;\n",
       "    }\n",
       "\n",
       "    .dataframe tbody tr th {\n",
       "        vertical-align: top;\n",
       "    }\n",
       "\n",
       "    .dataframe thead th {\n",
       "        text-align: right;\n",
       "    }\n",
       "</style>\n",
       "<table border=\"1\" class=\"dataframe\">\n",
       "  <thead>\n",
       "    <tr style=\"text-align: right;\">\n",
       "      <th></th>\n",
       "      <th>Name</th>\n",
       "      <th>Salary</th>\n",
       "    </tr>\n",
       "  </thead>\n",
       "  <tbody>\n",
       "    <tr>\n",
       "      <th>one</th>\n",
       "      <td>Tom</td>\n",
       "      <td>2000.0</td>\n",
       "    </tr>\n",
       "    <tr>\n",
       "      <th>two</th>\n",
       "      <td>John</td>\n",
       "      <td>3000.0</td>\n",
       "    </tr>\n",
       "    <tr>\n",
       "      <th>three</th>\n",
       "      <td>Amy</td>\n",
       "      <td>5000.0</td>\n",
       "    </tr>\n",
       "  </tbody>\n",
       "</table>\n",
       "</div>"
      ],
      "text/plain": [
       "       Name  Salary\n",
       "one     Tom  2000.0\n",
       "two    John  3000.0\n",
       "three   Amy  5000.0"
      ]
     },
     "execution_count": 22,
     "metadata": {},
     "output_type": "execute_result"
    }
   ],
   "source": [
    "# DataFrame (Size - Mutable) / 2차원\n",
    "# cloumn별 다른 데이터타입 가능\n",
    "# 행과 열의 operation 가능\n",
    "# -> List, dict, Series, Numpy narrays, ...dataframe\n",
    "\n",
    "import pandas as pd\n",
    "df = pd.DataFrame()\n",
    "df\n",
    "data = [1,2,3,4,5,6]\n",
    "df2 = pd.DataFrame(data)\n",
    "df2\n",
    "data2 = [['Tom', 2000], ['John', 3000], ['Amy', 5000]]\n",
    "df3 = pd.DataFrame(data2)\n",
    "df3\n",
    "# df4 = pd.DataFrame(data2, columns = ['Name', 'Salary'])\n",
    "# df4\n",
    "df4 = pd.DataFrame(data2, \n",
    "                   index = ['one', 'two', 'three'],\n",
    "                   columns = ['Name', 'Salary'], dtype = float)\n",
    "df4"
   ]
  },
  {
   "cell_type": "code",
   "execution_count": 24,
   "metadata": {},
   "outputs": [
    {
     "data": {
      "text/html": [
       "<div>\n",
       "<style scoped>\n",
       "    .dataframe tbody tr th:only-of-type {\n",
       "        vertical-align: middle;\n",
       "    }\n",
       "\n",
       "    .dataframe tbody tr th {\n",
       "        vertical-align: top;\n",
       "    }\n",
       "\n",
       "    .dataframe thead th {\n",
       "        text-align: right;\n",
       "    }\n",
       "</style>\n",
       "<table border=\"1\" class=\"dataframe\">\n",
       "  <thead>\n",
       "    <tr style=\"text-align: right;\">\n",
       "      <th></th>\n",
       "      <th>Name</th>\n",
       "      <th>Salary</th>\n",
       "    </tr>\n",
       "  </thead>\n",
       "  <tbody>\n",
       "    <tr>\n",
       "      <th>0</th>\n",
       "      <td>a</td>\n",
       "      <td>100</td>\n",
       "    </tr>\n",
       "    <tr>\n",
       "      <th>1</th>\n",
       "      <td>b</td>\n",
       "      <td>200</td>\n",
       "    </tr>\n",
       "    <tr>\n",
       "      <th>2</th>\n",
       "      <td>c</td>\n",
       "      <td>300</td>\n",
       "    </tr>\n",
       "  </tbody>\n",
       "</table>\n",
       "</div>"
      ],
      "text/plain": [
       "  Name Salary\n",
       "0    a    100\n",
       "1    b    200\n",
       "2    c    300"
      ]
     },
     "execution_count": 24,
     "metadata": {},
     "output_type": "execute_result"
    }
   ],
   "source": [
    "data3 = {'Name':['a', 'b', 'c'], 'Salary':['100','200','300']}\n",
    "df5 = pd.DataFrame(data3)\n",
    "df5"
   ]
  },
  {
   "cell_type": "code",
   "execution_count": 40,
   "metadata": {},
   "outputs": [
    {
     "data": {
      "text/html": [
       "<div>\n",
       "<style scoped>\n",
       "    .dataframe tbody tr th:only-of-type {\n",
       "        vertical-align: middle;\n",
       "    }\n",
       "\n",
       "    .dataframe tbody tr th {\n",
       "        vertical-align: top;\n",
       "    }\n",
       "\n",
       "    .dataframe thead th {\n",
       "        text-align: right;\n",
       "    }\n",
       "</style>\n",
       "<table border=\"1\" class=\"dataframe\">\n",
       "  <thead>\n",
       "    <tr style=\"text-align: right;\">\n",
       "      <th></th>\n",
       "      <th>two</th>\n",
       "      <th>three</th>\n",
       "      <th>four</th>\n",
       "    </tr>\n",
       "  </thead>\n",
       "  <tbody>\n",
       "    <tr>\n",
       "      <th>a</th>\n",
       "      <td>1</td>\n",
       "      <td>NaN</td>\n",
       "      <td>2.0</td>\n",
       "    </tr>\n",
       "    <tr>\n",
       "      <th>b</th>\n",
       "      <td>2</td>\n",
       "      <td>10.0</td>\n",
       "      <td>4.0</td>\n",
       "    </tr>\n",
       "    <tr>\n",
       "      <th>c</th>\n",
       "      <td>3</td>\n",
       "      <td>20.0</td>\n",
       "      <td>6.0</td>\n",
       "    </tr>\n",
       "    <tr>\n",
       "      <th>d</th>\n",
       "      <td>4</td>\n",
       "      <td>30.0</td>\n",
       "      <td>NaN</td>\n",
       "    </tr>\n",
       "  </tbody>\n",
       "</table>\n",
       "</div>"
      ],
      "text/plain": [
       "   two  three  four\n",
       "a    1    NaN   2.0\n",
       "b    2   10.0   4.0\n",
       "c    3   20.0   6.0\n",
       "d    4   30.0   NaN"
      ]
     },
     "execution_count": 40,
     "metadata": {},
     "output_type": "execute_result"
    }
   ],
   "source": [
    "data4 = {'one':pd.Series([1,2,3], index = ['a', 'b', 'c']),\n",
    "         'two':pd.Series([1,2,3,4], index = ['a','b','c','d'])}\n",
    "df6 = pd.DataFrame(data4)\n",
    "df6\n",
    "df6['one'] # column select\n",
    "df6['two']\n",
    "df6['three'] = pd.Series([10,20,30], index = ['b', 'c', 'd'])\n",
    "df6\n",
    "df6['four'] = df6['one'] + df6['two']\n",
    "df6\n",
    "del df6['one'] # column만 가능\n",
    "df6"
   ]
  },
  {
   "cell_type": "code",
   "execution_count": 48,
   "metadata": {},
   "outputs": [
    {
     "data": {
      "text/plain": [
       "pandas.core.frame.DataFrame"
      ]
     },
     "execution_count": 48,
     "metadata": {},
     "output_type": "execute_result"
    }
   ],
   "source": [
    "# index, label / row select\n",
    "# label --> loc \n",
    "# index --> iloc\n",
    "df6['two']\n",
    "df6.loc['a']\n",
    "d = df6.iloc[1]\n",
    "type(d) # Series\n",
    "d2 = pd.DataFrame(d)\n",
    "type(d2) # DataFrame"
   ]
  },
  {
   "cell_type": "code",
   "execution_count": 56,
   "metadata": {},
   "outputs": [],
   "source": [
    "# append : DF를 서로 붙인다.\n",
    "df7 = pd.DataFrame([[1,2], [3,4]], columns=['a','b'])\n",
    "df8 = pd.DataFrame([[5,6], [7,8]], columns=['a','b'])\n",
    "df9 = df7.append(df8)\n",
    "df9\n",
    "df10 = df9.drop(0) # index가 1 인 행 삭제"
   ]
  },
  {
   "cell_type": "code",
   "execution_count": 68,
   "metadata": {},
   "outputs": [
    {
     "name": "stdout",
     "output_type": "stream",
     "text": [
      "          0         1         2\n",
      "0  1.961121 -0.272251  1.133831\n",
      "1  1.745891  0.201537 -1.537761\n",
      "2 -0.897259 -0.421183 -0.248554\n",
      "3  0.282518  0.231514 -0.835070\n",
      "          0         1   2\n",
      "0 -0.880039 -0.238373 NaN\n",
      "1  0.954456  1.313157 NaN\n",
      "2  1.112039  0.645656 NaN\n",
      "3 -0.167417  0.630051 NaN\n"
     ]
    }
   ],
   "source": [
    "# Panel 3차원\n",
    "# 많이 쓰이지 않음\n",
    "\n",
    "import pandas as pd\n",
    "import numpy as np\n",
    "data = np.random.randn(2,4,5)\n",
    "type(data)\n",
    "\n",
    "df11 = pd.Panel(data)\n",
    "df11\n",
    "\n",
    "data2 = {\n",
    "    'one':pd.DataFrame(np.random.randn(4,3)),\n",
    "    'two':pd.DataFrame(np.random.randn(4,2))\n",
    "}\n",
    "\n",
    "df12 = pd.Panel(data2)\n",
    "type(df12['two']) # DataFrame 형태로 출력\n",
    "print(df12['one'])\n",
    "print(df12['two'])"
   ]
  },
  {
   "cell_type": "code",
   "execution_count": 80,
   "metadata": {},
   "outputs": [
    {
     "data": {
      "text/plain": [
       "numpy.ndarray"
      ]
     },
     "execution_count": 80,
     "metadata": {},
     "output_type": "execute_result"
    }
   ],
   "source": [
    "# Panda 기본 속성\n",
    "import numpy as np\n",
    "import pandas as pd\n",
    "s = pd.Series(np.random.randn(4))\n",
    "type(s)\n",
    "\n",
    "s.axes # index 범위\n",
    "s.empty # 비어있는 지\n",
    "s.ndim # 차원확인\n",
    "s.size # 크기\n",
    "type(s)\n",
    "type(s.values)"
   ]
  },
  {
   "cell_type": "code",
   "execution_count": 97,
   "metadata": {},
   "outputs": [
    {
     "data": {
      "text/html": [
       "<div>\n",
       "<style scoped>\n",
       "    .dataframe tbody tr th:only-of-type {\n",
       "        vertical-align: middle;\n",
       "    }\n",
       "\n",
       "    .dataframe tbody tr th {\n",
       "        vertical-align: top;\n",
       "    }\n",
       "\n",
       "    .dataframe thead th {\n",
       "        text-align: right;\n",
       "    }\n",
       "</style>\n",
       "<table border=\"1\" class=\"dataframe\">\n",
       "  <thead>\n",
       "    <tr style=\"text-align: right;\">\n",
       "      <th></th>\n",
       "      <th>0</th>\n",
       "      <th>1</th>\n",
       "    </tr>\n",
       "  </thead>\n",
       "  <tbody>\n",
       "    <tr>\n",
       "      <th>count</th>\n",
       "      <td>2.000000</td>\n",
       "      <td>2.000000</td>\n",
       "    </tr>\n",
       "    <tr>\n",
       "      <th>mean</th>\n",
       "      <td>2.000000</td>\n",
       "      <td>3.000000</td>\n",
       "    </tr>\n",
       "    <tr>\n",
       "      <th>std</th>\n",
       "      <td>1.414214</td>\n",
       "      <td>1.414214</td>\n",
       "    </tr>\n",
       "    <tr>\n",
       "      <th>min</th>\n",
       "      <td>1.000000</td>\n",
       "      <td>2.000000</td>\n",
       "    </tr>\n",
       "    <tr>\n",
       "      <th>25%</th>\n",
       "      <td>1.500000</td>\n",
       "      <td>2.500000</td>\n",
       "    </tr>\n",
       "    <tr>\n",
       "      <th>50%</th>\n",
       "      <td>2.000000</td>\n",
       "      <td>3.000000</td>\n",
       "    </tr>\n",
       "    <tr>\n",
       "      <th>75%</th>\n",
       "      <td>2.500000</td>\n",
       "      <td>3.500000</td>\n",
       "    </tr>\n",
       "    <tr>\n",
       "      <th>max</th>\n",
       "      <td>3.000000</td>\n",
       "      <td>4.000000</td>\n",
       "    </tr>\n",
       "  </tbody>\n",
       "</table>\n",
       "</div>"
      ],
      "text/plain": [
       "              0         1\n",
       "count  2.000000  2.000000\n",
       "mean   2.000000  3.000000\n",
       "std    1.414214  1.414214\n",
       "min    1.000000  2.000000\n",
       "25%    1.500000  2.500000\n",
       "50%    2.000000  3.000000\n",
       "75%    2.500000  3.500000\n",
       "max    3.000000  4.000000"
      ]
     },
     "execution_count": 97,
     "metadata": {},
     "output_type": "execute_result"
    }
   ],
   "source": [
    "data5 = [[1,2], [3,4]]\n",
    "df20 = pd.DataFrame(data5)\n",
    "df20\n",
    "df20.dtypes # 데이터 타입\n",
    "df20.ndim\n",
    "df20.size\n",
    "df20.shape # 모양\n",
    "df20.values # 값\n",
    "df20.describe()"
   ]
  },
  {
   "cell_type": "code",
   "execution_count": 99,
   "metadata": {},
   "outputs": [
    {
     "data": {
      "text/plain": [
       "0    100\n",
       "1    300\n",
       "Name: 0, dtype: int64"
      ]
     },
     "execution_count": 99,
     "metadata": {},
     "output_type": "execute_result"
    }
   ],
   "source": [
    "# element wise function\n",
    "df20\n",
    "df20[0].map(lambda x:x* 100)"
   ]
  },
  {
   "cell_type": "code",
   "execution_count": 108,
   "metadata": {},
   "outputs": [
    {
     "data": {
      "text/html": [
       "<div>\n",
       "<style scoped>\n",
       "    .dataframe tbody tr th:only-of-type {\n",
       "        vertical-align: middle;\n",
       "    }\n",
       "\n",
       "    .dataframe tbody tr th {\n",
       "        vertical-align: top;\n",
       "    }\n",
       "\n",
       "    .dataframe thead th {\n",
       "        text-align: right;\n",
       "    }\n",
       "</style>\n",
       "<table border=\"1\" class=\"dataframe\">\n",
       "  <thead>\n",
       "    <tr style=\"text-align: right;\">\n",
       "      <th></th>\n",
       "      <th>cl1</th>\n",
       "      <th>cl2</th>\n",
       "      <th>cl3</th>\n",
       "    </tr>\n",
       "  </thead>\n",
       "  <tbody>\n",
       "    <tr>\n",
       "      <th>one</th>\n",
       "      <td>0.576980</td>\n",
       "      <td>0.938435</td>\n",
       "      <td>2.711554</td>\n",
       "    </tr>\n",
       "    <tr>\n",
       "      <th>two</th>\n",
       "      <td>1.159197</td>\n",
       "      <td>-0.689928</td>\n",
       "      <td>-0.410205</td>\n",
       "    </tr>\n",
       "    <tr>\n",
       "      <th>2</th>\n",
       "      <td>0.096096</td>\n",
       "      <td>-0.054676</td>\n",
       "      <td>0.228006</td>\n",
       "    </tr>\n",
       "    <tr>\n",
       "      <th>3</th>\n",
       "      <td>0.916695</td>\n",
       "      <td>-0.000284</td>\n",
       "      <td>1.015177</td>\n",
       "    </tr>\n",
       "    <tr>\n",
       "      <th>4</th>\n",
       "      <td>1.927700</td>\n",
       "      <td>0.295851</td>\n",
       "      <td>0.085050</td>\n",
       "    </tr>\n",
       "    <tr>\n",
       "      <th>5</th>\n",
       "      <td>1.092866</td>\n",
       "      <td>0.355560</td>\n",
       "      <td>0.011507</td>\n",
       "    </tr>\n",
       "    <tr>\n",
       "      <th>6</th>\n",
       "      <td>-0.845507</td>\n",
       "      <td>-0.713080</td>\n",
       "      <td>-0.481810</td>\n",
       "    </tr>\n",
       "  </tbody>\n",
       "</table>\n",
       "</div>"
      ],
      "text/plain": [
       "          cl1       cl2       cl3\n",
       "one  0.576980  0.938435  2.711554\n",
       "two  1.159197 -0.689928 -0.410205\n",
       "2    0.096096 -0.054676  0.228006\n",
       "3    0.916695 -0.000284  1.015177\n",
       "4    1.927700  0.295851  0.085050\n",
       "5    1.092866  0.355560  0.011507\n",
       "6   -0.845507 -0.713080 -0.481810"
      ]
     },
     "execution_count": 108,
     "metadata": {},
     "output_type": "execute_result"
    }
   ],
   "source": [
    "df21 = pd.DataFrame(np.random.randn(10, 3), columns = ['col1', 'col2', 'col3'])\n",
    "df22 = pd.DataFrame(np.random.randn(7, 3), columns = ['col1', 'col2', 'col3'])\n",
    "df23 = df21.reindex_like(df22)\n",
    "df23 = df23.rename(columns = {'col1':'cl1', 'col2':'cl2', 'col3':'cl3'},\n",
    "                   index = {0:'one', 1:'two'}) # inplace = True\n",
    "df23"
   ]
  },
  {
   "cell_type": "code",
   "execution_count": null,
   "metadata": {},
   "outputs": [],
   "source": []
  },
  {
   "cell_type": "code",
   "execution_count": null,
   "metadata": {},
   "outputs": [],
   "source": []
  },
  {
   "cell_type": "code",
   "execution_count": null,
   "metadata": {},
   "outputs": [],
   "source": []
  },
  {
   "cell_type": "code",
   "execution_count": null,
   "metadata": {},
   "outputs": [],
   "source": []
  }
 ],
 "metadata": {
  "kernelspec": {
   "display_name": "Python 3",
   "language": "python",
   "name": "python3"
  },
  "language_info": {
   "codemirror_mode": {
    "name": "ipython",
    "version": 3
   },
   "file_extension": ".py",
   "mimetype": "text/x-python",
   "name": "python",
   "nbconvert_exporter": "python",
   "pygments_lexer": "ipython3",
   "version": "3.7.3"
  }
 },
 "nbformat": 4,
 "nbformat_minor": 2
}
