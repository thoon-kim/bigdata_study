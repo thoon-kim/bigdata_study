{
 "cells": [
  {
   "cell_type": "code",
   "execution_count": 4,
   "metadata": {},
   "outputs": [
    {
     "name": "stdout",
     "output_type": "stream",
     "text": [
      "0b1\n",
      "-0b10\n",
      "0b10\n",
      "-0b11\n",
      "-2\n"
     ]
    }
   ],
   "source": [
    "# 2의 보수 처리\n",
    "a = 1\n",
    "a1 = ~a\n",
    "a2 = 2\n",
    "a3 = ~a2\n",
    "print(bin(a))\n",
    "print(bin(a1))\n",
    "print(bin(a2))\n",
    "print(bin(a3))\n",
    "\n",
    "import numpy as np\n",
    "a3 = np.array([1,2,3,4])\n",
    "print(~np.amin(a3))"
   ]
  }
 ],
 "metadata": {
  "kernelspec": {
   "display_name": "Python 3",
   "language": "python",
   "name": "python3"
  },
  "language_info": {
   "codemirror_mode": {
    "name": "ipython",
    "version": 3
   },
   "file_extension": ".py",
   "mimetype": "text/x-python",
   "name": "python",
   "nbconvert_exporter": "python",
   "pygments_lexer": "ipython3",
   "version": "3.7.3"
  }
 },
 "nbformat": 4,
 "nbformat_minor": 2
}
