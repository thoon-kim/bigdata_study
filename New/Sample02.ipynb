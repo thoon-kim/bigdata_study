{
 "cells": [
  {
   "cell_type": "code",
   "execution_count": 28,
   "metadata": {},
   "outputs": [
    {
     "name": "stdout",
     "output_type": "stream",
     "text": [
      "1234\n",
      "1234\n",
      "강감찬\n",
      "강감찬\n"
     ]
    }
   ],
   "source": [
    "# class variable vs instance variable\n",
    "# class variable -> shared variables in instances\n",
    "# instance variable -> in instances\n",
    "class School:\n",
    "    name2 = '1234'\n",
    "    def getName(self):\n",
    "        return School.name2\n",
    "    def getName2(self):\n",
    "        return self.name2\n",
    "    def setName2(self, name):\n",
    "        School.name2 = name\n",
    "s = School()  \n",
    "print(s.getName2())\n",
    "print(s.getName())\n",
    "s.setName2(\"강감찬\")\n",
    "print(s.getName2())\n",
    "print(s.getName())"
   ]
  },
  {
   "cell_type": "code",
   "execution_count": 38,
   "metadata": {},
   "outputs": [
    {
     "name": "stdout",
     "output_type": "stream",
     "text": [
      "Selling price : 1000\n",
      "Selling price : 1000\n",
      "Selling price : 4000\n"
     ]
    }
   ],
   "source": [
    "# 캡슐화, 상속성, 다형성\n",
    "# Data Hide\n",
    "class Computer:\n",
    "    def __init__(self):\n",
    "        self.__maxprice = 1000\n",
    "    def sell(self):\n",
    "        print(\"Selling price : %d\" % self.__maxprice)\n",
    "    def setMaxPrice(self, price):\n",
    "        self.__maxprice = price\n",
    "c = Computer()\n",
    "c.sell()\n",
    "c.__maxprice = 3000\n",
    "c.sell()\n",
    "c.setMaxPrice(4000)\n",
    "c.sell()\n"
   ]
  },
  {
   "cell_type": "code",
   "execution_count": 48,
   "metadata": {},
   "outputs": [
    {
     "name": "stdout",
     "output_type": "stream",
     "text": [
      "Animal breath\n",
      "Dog breath\n",
      "Bird breath\n"
     ]
    }
   ],
   "source": [
    "# Animal <- Dog\n",
    "# Animal <- Bird\n",
    "class Animal:\n",
    "    def breath(self):\n",
    "        print(\"Animal breath\")\n",
    "class Dog(Animal):\n",
    "    def breath(self):\n",
    "        print(\"Dog breath\")\n",
    "\n",
    "class Bird(Animal):\n",
    "    def breath(self):\n",
    "        print(\"Bird breath\")\n",
    "a = Animal()\n",
    "#a.breath()\n",
    "a1 = Dog()\n",
    "#a1.breath()\n",
    "a3 = Bird()\n",
    "#a3.breath()\n",
    "def Execute(test):\n",
    "    test.breath()\n",
    "\n",
    "Execute(a)\n",
    "Execute(a1)\n",
    "Execute(a3)\n",
    "\n"
   ]
  },
  {
   "cell_type": "code",
   "execution_count": null,
   "metadata": {},
   "outputs": [],
   "source": []
  },
  {
   "cell_type": "code",
   "execution_count": null,
   "metadata": {},
   "outputs": [],
   "source": []
  },
  {
   "cell_type": "code",
   "execution_count": null,
   "metadata": {},
   "outputs": [],
   "source": []
  },
  {
   "cell_type": "code",
   "execution_count": null,
   "metadata": {},
   "outputs": [],
   "source": []
  },
  {
   "cell_type": "code",
   "execution_count": null,
   "metadata": {},
   "outputs": [],
   "source": []
  }
 ],
 "metadata": {
  "kernelspec": {
   "display_name": "Python 3",
   "language": "python",
   "name": "python3"
  },
  "language_info": {
   "codemirror_mode": {
    "name": "ipython",
    "version": 3
   },
   "file_extension": ".py",
   "mimetype": "text/x-python",
   "name": "python",
   "nbconvert_exporter": "python",
   "pygments_lexer": "ipython3",
   "version": "3.7.3"
  }
 },
 "nbformat": 4,
 "nbformat_minor": 2
}
