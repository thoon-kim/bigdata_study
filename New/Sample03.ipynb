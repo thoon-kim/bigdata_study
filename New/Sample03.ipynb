{
 "cells": [
  {
   "cell_type": "code",
   "execution_count": 21,
   "metadata": {
    "scrolled": true
   },
   "outputs": [
    {
     "name": "stdout",
     "output_type": "stream",
     "text": [
      " 1\n",
      "  1.1\n",
      "   1.1.1\n",
      "    1.1.1.1\n",
      "   1.1.2\n",
      "   1.1.3\n",
      "  1.2\n"
     ]
    }
   ],
   "source": [
    "data = {'count': 2,\n",
    "        'text': '1',\n",
    "        'values': [{'count': 3,\n",
    "                  'text': '1.1',\n",
    "                  'values': [{'count': 1,\n",
    "                            'text': '1.1.1',\n",
    "                            'values': [{'count':0,\n",
    "                                      'text': '1.1.1.1',\n",
    "                                      'values': []}]},\n",
    "                           {'count': 0,\n",
    "                            'text': '1.1.2',\n",
    "                            'values': []},\n",
    "                           {'count': 0,\n",
    "                            'text': '1.1.3',\n",
    "                            'values': []}]},\n",
    "                 {'count': 0,\n",
    "                  'text': '1.2',\n",
    "                  'values': []}]}\n",
    "\n",
    "def testFunc(data):\n",
    "    global level\n",
    "    print(' ' * level + data['text'])\n",
    "    for k in data['values']: \n",
    "        level = level + 1\n",
    "        testFunc(k) \n",
    "        level = level -1\n",
    "\n",
    "testFunc(data)"
   ]
  }
 ],
 "metadata": {
  "kernelspec": {
   "display_name": "Python 3",
   "language": "python",
   "name": "python3"
  },
  "language_info": {
   "codemirror_mode": {
    "name": "ipython",
    "version": 3
   },
   "file_extension": ".py",
   "mimetype": "text/x-python",
   "name": "python",
   "nbconvert_exporter": "python",
   "pygments_lexer": "ipython3",
   "version": "3.7.3"
  }
 },
 "nbformat": 4,
 "nbformat_minor": 2
}
